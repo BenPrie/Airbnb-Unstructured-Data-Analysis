{
 "cells": [
  {
   "cell_type": "code",
   "execution_count": 50,
   "metadata": {},
   "outputs": [],
   "source": [
    "# Imports, as always...\n",
    "import pandas as pd\n",
    "import numpy as np\n",
    "from pathlib import Path\n",
    "import os\n",
    "import ast\n",
    "from datetime import datetime\n",
    "import matplotlib.pyplot as plt\n",
    "import seaborn as sns\n",
    "from scipy.stats import ttest_ind\n",
    "\n",
    "import image_keyword_features\n",
    "import create_data\n",
    "\n",
    "import warnings\n",
    "warnings.filterwarnings('ignore')"
   ]
  },
  {
   "attachments": {},
   "cell_type": "markdown",
   "metadata": {},
   "source": [
    "---"
   ]
  },
  {
   "attachments": {},
   "cell_type": "markdown",
   "metadata": {},
   "source": [
    "---\n",
    "\n",
    "# Updates to RQ1"
   ]
  },
  {
   "attachments": {},
   "cell_type": "markdown",
   "metadata": {},
   "source": [
    "Testing has shown that there is not much to be learnt from the perceived sentiment of listing images..."
   ]
  },
  {
   "cell_type": "code",
   "execution_count": 51,
   "metadata": {},
   "outputs": [],
   "source": [
    "data = image_keyword_features.compute_image_sentiments('datasets/image_keywords_edinburgh.csv')"
   ]
  },
  {
   "cell_type": "code",
   "execution_count": 52,
   "metadata": {},
   "outputs": [
    {
     "data": {
      "text/html": [
       "<div>\n",
       "<style scoped>\n",
       "    .dataframe tbody tr th:only-of-type {\n",
       "        vertical-align: middle;\n",
       "    }\n",
       "\n",
       "    .dataframe tbody tr th {\n",
       "        vertical-align: top;\n",
       "    }\n",
       "\n",
       "    .dataframe thead th {\n",
       "        text-align: right;\n",
       "    }\n",
       "</style>\n",
       "<table border=\"1\" class=\"dataframe\">\n",
       "  <thead>\n",
       "    <tr style=\"text-align: right;\">\n",
       "      <th></th>\n",
       "      <th>id</th>\n",
       "      <th>mean_sentiment</th>\n",
       "      <th>std_sentiment</th>\n",
       "      <th>extraction_count</th>\n",
       "    </tr>\n",
       "  </thead>\n",
       "  <tbody>\n",
       "    <tr>\n",
       "      <th>4957</th>\n",
       "      <td>7.548924e+17</td>\n",
       "      <td>0.007255</td>\n",
       "      <td>0.033245</td>\n",
       "      <td>22.0</td>\n",
       "    </tr>\n",
       "    <tr>\n",
       "      <th>3057</th>\n",
       "      <td>5.091113e+07</td>\n",
       "      <td>0.000000</td>\n",
       "      <td>0.000000</td>\n",
       "      <td>25.0</td>\n",
       "    </tr>\n",
       "    <tr>\n",
       "      <th>2600</th>\n",
       "      <td>4.267370e+07</td>\n",
       "      <td>-0.000418</td>\n",
       "      <td>0.003263</td>\n",
       "      <td>62.0</td>\n",
       "    </tr>\n",
       "    <tr>\n",
       "      <th>1670</th>\n",
       "      <td>2.776964e+07</td>\n",
       "      <td>0.000000</td>\n",
       "      <td>0.000000</td>\n",
       "      <td>36.0</td>\n",
       "    </tr>\n",
       "    <tr>\n",
       "      <th>140</th>\n",
       "      <td>3.572324e+06</td>\n",
       "      <td>-0.000851</td>\n",
       "      <td>0.008253</td>\n",
       "      <td>95.0</td>\n",
       "    </tr>\n",
       "  </tbody>\n",
       "</table>\n",
       "</div>"
      ],
      "text/plain": [
       "                id  mean_sentiment  std_sentiment  extraction_count\n",
       "4957  7.548924e+17        0.007255       0.033245              22.0\n",
       "3057  5.091113e+07        0.000000       0.000000              25.0\n",
       "2600  4.267370e+07       -0.000418       0.003263              62.0\n",
       "1670  2.776964e+07        0.000000       0.000000              36.0\n",
       "140   3.572324e+06       -0.000851       0.008253              95.0"
      ]
     },
     "execution_count": 52,
     "metadata": {},
     "output_type": "execute_result"
    }
   ],
   "source": [
    "data.sample(5)"
   ]
  },
  {
   "cell_type": "code",
   "execution_count": 53,
   "metadata": {},
   "outputs": [
    {
     "data": {
      "text/html": [
       "<div>\n",
       "<style scoped>\n",
       "    .dataframe tbody tr th:only-of-type {\n",
       "        vertical-align: middle;\n",
       "    }\n",
       "\n",
       "    .dataframe tbody tr th {\n",
       "        vertical-align: top;\n",
       "    }\n",
       "\n",
       "    .dataframe thead th {\n",
       "        text-align: right;\n",
       "    }\n",
       "</style>\n",
       "<table border=\"1\" class=\"dataframe\">\n",
       "  <thead>\n",
       "    <tr style=\"text-align: right;\">\n",
       "      <th></th>\n",
       "      <th>id</th>\n",
       "      <th>mean_sentiment</th>\n",
       "      <th>std_sentiment</th>\n",
       "      <th>extraction_count</th>\n",
       "    </tr>\n",
       "  </thead>\n",
       "  <tbody>\n",
       "    <tr>\n",
       "      <th>count</th>\n",
       "      <td>5.126000e+03</td>\n",
       "      <td>5126.000000</td>\n",
       "      <td>5126.000000</td>\n",
       "      <td>5126.000000</td>\n",
       "    </tr>\n",
       "    <tr>\n",
       "      <th>mean</th>\n",
       "      <td>2.104933e+17</td>\n",
       "      <td>0.000508</td>\n",
       "      <td>0.009166</td>\n",
       "      <td>36.997269</td>\n",
       "    </tr>\n",
       "    <tr>\n",
       "      <th>std</th>\n",
       "      <td>3.111559e+17</td>\n",
       "      <td>0.003506</td>\n",
       "      <td>0.016253</td>\n",
       "      <td>14.291379</td>\n",
       "    </tr>\n",
       "    <tr>\n",
       "      <th>min</th>\n",
       "      <td>2.428800e+04</td>\n",
       "      <td>-0.024214</td>\n",
       "      <td>0.000000</td>\n",
       "      <td>3.000000</td>\n",
       "    </tr>\n",
       "    <tr>\n",
       "      <th>25%</th>\n",
       "      <td>2.186357e+07</td>\n",
       "      <td>-0.000541</td>\n",
       "      <td>0.000000</td>\n",
       "      <td>26.000000</td>\n",
       "    </tr>\n",
       "    <tr>\n",
       "      <th>50%</th>\n",
       "      <td>4.128565e+07</td>\n",
       "      <td>0.000000</td>\n",
       "      <td>0.000000</td>\n",
       "      <td>36.000000</td>\n",
       "    </tr>\n",
       "    <tr>\n",
       "      <th>75%</th>\n",
       "      <td>6.252139e+17</td>\n",
       "      <td>0.000000</td>\n",
       "      <td>0.012170</td>\n",
       "      <td>46.750000</td>\n",
       "    </tr>\n",
       "    <tr>\n",
       "      <th>max</th>\n",
       "      <td>7.825218e+17</td>\n",
       "      <td>0.046885</td>\n",
       "      <td>0.159758</td>\n",
       "      <td>99.000000</td>\n",
       "    </tr>\n",
       "  </tbody>\n",
       "</table>\n",
       "</div>"
      ],
      "text/plain": [
       "                 id  mean_sentiment  std_sentiment  extraction_count\n",
       "count  5.126000e+03     5126.000000    5126.000000       5126.000000\n",
       "mean   2.104933e+17        0.000508       0.009166         36.997269\n",
       "std    3.111559e+17        0.003506       0.016253         14.291379\n",
       "min    2.428800e+04       -0.024214       0.000000          3.000000\n",
       "25%    2.186357e+07       -0.000541       0.000000         26.000000\n",
       "50%    4.128565e+07        0.000000       0.000000         36.000000\n",
       "75%    6.252139e+17        0.000000       0.012170         46.750000\n",
       "max    7.825218e+17        0.046885       0.159758         99.000000"
      ]
     },
     "execution_count": 53,
     "metadata": {},
     "output_type": "execute_result"
    }
   ],
   "source": [
    "data.describe()"
   ]
  },
  {
   "attachments": {},
   "cell_type": "markdown",
   "metadata": {},
   "source": [
    "Looking into associated scores of keywords..."
   ]
  },
  {
   "cell_type": "code",
   "execution_count": 54,
   "metadata": {},
   "outputs": [],
   "source": [
    "success = pd.read_csv('datasets/master_edinburgh.csv')[['id', 'success_score']]"
   ]
  },
  {
   "cell_type": "code",
   "execution_count": 55,
   "metadata": {},
   "outputs": [],
   "source": [
    "keywords = create_data.mean_keyword_scores(success, 'datasets/image_keywords_edinburgh.csv')\n",
    "\n",
    "# Sort the keywords by their associated scores.\n",
    "keywords = sorted(keywords.items(), key=lambda x:x[1], reverse=True)"
   ]
  },
  {
   "cell_type": "code",
   "execution_count": 56,
   "metadata": {},
   "outputs": [
    {
     "data": {
      "text/plain": [
       "[('Violin', 2.368272475224936),\n",
       " ('Bowling', 1.7261150335977298),\n",
       " ('Marching', 1.6372526419469364),\n",
       " ('Group Performance', 1.5722201930068291),\n",
       " ('Music Band', 1.5216288167990544)]"
      ]
     },
     "execution_count": 56,
     "metadata": {},
     "output_type": "execute_result"
    }
   ],
   "source": [
    "keywords[:5]"
   ]
  },
  {
   "attachments": {},
   "cell_type": "markdown",
   "metadata": {},
   "source": [
    "---\n",
    "\n",
    "# Updates to RQ2"
   ]
  },
  {
   "attachments": {},
   "cell_type": "markdown",
   "metadata": {},
   "source": [
    "---\n",
    "\n",
    "# Updates to RQ3"
   ]
  },
  {
   "attachments": {},
   "cell_type": "markdown",
   "metadata": {},
   "source": [
    "---\n",
    "\n",
    "# Miscellaneous Fun"
   ]
  },
  {
   "attachments": {},
   "cell_type": "markdown",
   "metadata": {},
   "source": [
    "## Data Preprocessing: Cleaning and Selecting"
   ]
  },
  {
   "cell_type": "code",
   "execution_count": 57,
   "metadata": {},
   "outputs": [
    {
     "name": "stdout",
     "output_type": "stream",
     "text": [
      "Pre-existing master data file found (no new data created).\n"
     ]
    }
   ],
   "source": [
    "# Create master data for Edinburgh (if not created already).\n",
    "if not Path('datasets/master_edinburgh.csv').is_file():\n",
    "    create_data.city_data_generation('edinburgh', 'datasets', datetime(2022, 12, 16), True)\n",
    "    print('Master data file generated.')\n",
    "\n",
    "else:\n",
    "    print('Pre-existing master data file found (no new data created).')\n",
    "\n",
    "# Note: This takes around 3 minutes on my laptop for ~7500 listings and ~500000 reviews (Edinburgh)."
   ]
  },
  {
   "cell_type": "code",
   "execution_count": 58,
   "metadata": {},
   "outputs": [],
   "source": [
    "# Get the master data.\n",
    "master_data = pd.read_csv('datasets/master_edinburgh.csv').iloc[:,2:]"
   ]
  },
  {
   "cell_type": "code",
   "execution_count": 59,
   "metadata": {},
   "outputs": [],
   "source": [
    "# We will be predicting success\n",
    "# So, it would only be fair for us to remove all data used to generate success scores.\n",
    "master_data.drop(columns=[\n",
    "    'price',\n",
    "    'minimum_nights_avg_ntm', \n",
    "    'number_of_reviews_ltm',\n",
    "    'log_price', \n",
    "    'rental_probability',\n",
    "    'weighted_average_sentiment'\n",
    "], inplace=True, axis=1)"
   ]
  },
  {
   "cell_type": "code",
   "execution_count": 60,
   "metadata": {},
   "outputs": [
    {
     "data": {
      "text/plain": [
       "bathrooms                       7389\n",
       "neighbourhood_group_cleansed    7389\n",
       "license                         7374\n",
       "host_neighbourhood              4382\n",
       "host_about_keywords             3344\n",
       "                                ... \n",
       "availability_30                    0\n",
       "host_id                            0\n",
       "availability_90                    0\n",
       "availability_365                   0\n",
       "availability_60                    0\n",
       "Length: 71, dtype: int64"
      ]
     },
     "execution_count": 60,
     "metadata": {},
     "output_type": "execute_result"
    }
   ],
   "source": [
    "# Count the number of missing values in each feature.\n",
    "missing_values = master_data.isna().sum().sort_values(ascending=False)\n",
    "missing_values"
   ]
  },
  {
   "cell_type": "code",
   "execution_count": 61,
   "metadata": {},
   "outputs": [
    {
     "name": "stdout",
     "output_type": "stream",
     "text": [
      "dropped: Index(['bathrooms', 'neighbourhood_group_cleansed', 'license',\n",
      "       'host_neighbourhood'],\n",
      "      dtype='object')\n"
     ]
    }
   ],
   "source": [
    "# Drop features with majority missing values.\n",
    "threshold = master_data.shape[0] // 2\n",
    "master_data.drop(columns=missing_values[missing_values > threshold].index, inplace=True, axis=1)\n",
    "print('dropped:', missing_values[missing_values > threshold].index)"
   ]
  },
  {
   "cell_type": "code",
   "execution_count": 62,
   "metadata": {},
   "outputs": [
    {
     "name": "stdout",
     "output_type": "stream",
     "text": [
      "Number of dropped rows (no success score): 670\n"
     ]
    }
   ],
   "source": [
    "# Drop rows with missing a succuess score.\n",
    "print('Number of dropped rows (no success score):', len(master_data[master_data.success_score.isna()]))\n",
    "master_data = master_data[master_data.success_score.notna()]"
   ]
  },
  {
   "cell_type": "code",
   "execution_count": 63,
   "metadata": {},
   "outputs": [],
   "source": [
    "# Remove unhelpful features (for prediction of success).\n",
    "master_data.drop(columns=[\n",
    "    'host_id',\n",
    "    'neighbourhood',\n",
    "    'neighbourhood_cleansed',\n",
    "    'latitude',\n",
    "    'longitude',\n",
    "    'property_type',\n",
    "    'bathrooms_text',\n",
    "    'amenities',\n",
    "    'minimum_minimum_nights', \n",
    "    'maximum_minimum_nights',\n",
    "    'minimum_maximum_nights', \n",
    "    'maximum_maximum_nights',\n",
    "    'maximum_nights_avg_ntm',\n",
    "    'calculated_host_listings_count',\n",
    "    'calculated_host_listings_count_entire_homes',\n",
    "    'calculated_host_listings_count_private_rooms',\n",
    "    'calculated_host_listings_count_shared_rooms',\n",
    "    'title_keywords',\n",
    "    'description_keywords', \n",
    "    'neighborhood_overview_keywords',\n",
    "    'host_about_keywords'\n",
    "], inplace=True, axis=1) \n",
    "\n",
    "# Remove features that almost certinaly don't add anything (e.g. almost all the same value).\n",
    "master_data.drop(columns=[\n",
    "    'has_availability',\n",
    "    'host_has_profile_pic'\n",
    "], inplace=True, axis=1)"
   ]
  },
  {
   "cell_type": "code",
   "execution_count": 64,
   "metadata": {},
   "outputs": [],
   "source": [
    "# Helper function for converting dates to days since.\n",
    "def elapsed_days(from_date_as_string, to_date=datetime(2022, 12, 16)):\n",
    "    from_date = datetime.strptime(from_date_as_string, '%Y-%m-%d')\n",
    "    return max(0, (to_date - from_date).days)"
   ]
  },
  {
   "cell_type": "code",
   "execution_count": 65,
   "metadata": {},
   "outputs": [],
   "source": [
    "# Convert pseudonumeric types (e.g. dates) to numeric...\n",
    "\n",
    "master_data.host_since = master_data.host_since.apply(elapsed_days)\n",
    "\n",
    "master_data.host_response_rate = master_data.host_response_rate.apply(\n",
    "    lambda x : float(x[:-1]) if not pd.isna(x) \n",
    "    else x\n",
    ")\n",
    "\n",
    "master_data.host_acceptance_rate = master_data.host_acceptance_rate.apply(\n",
    "    lambda x : float(x[:-1]) if not pd.isna(x) \n",
    "    else x\n",
    ")\n",
    "\n",
    "master_data.host_verifications = master_data.host_verifications.apply(\n",
    "    lambda x : len(x)\n",
    ")\n",
    "\n",
    "master_data.first_review = master_data.first_review.apply(\n",
    "    lambda x : elapsed_days(x) if not pd.isna(x)\n",
    "    else x\n",
    ")\n",
    "\n",
    "master_data.last_review = master_data.last_review.apply(\n",
    "    lambda x : elapsed_days(x) if not pd.isna(x)\n",
    "    else x\n",
    ")"
   ]
  },
  {
   "cell_type": "code",
   "execution_count": 66,
   "metadata": {},
   "outputs": [
    {
     "data": {
      "text/plain": [
       "host_about_polarity                   2678\n",
       "host_about_subjectivity               2678\n",
       "images_confidences                    2091\n",
       "images_keywords                       2091\n",
       "neighborhood_overview_subjectivity    1823\n",
       "neighborhood_overview_polarity        1823\n",
       "host_response_time                    1313\n",
       "host_response_rate                    1313\n",
       "host_acceptance_rate                   591\n",
       "bedrooms                               103\n",
       "beds                                    59\n",
       "description_subjectivity                52\n",
       "description_polarity                    52\n",
       "review_scores_value                     13\n",
       "review_scores_checkin                   13\n",
       "review_scores_communication             13\n",
       "review_scores_location                  13\n",
       "review_scores_cleanliness               13\n",
       "review_scores_accuracy                  13\n",
       "instant_bookable                         0\n",
       "reviews_per_month                        0\n",
       "title_polarity                           0\n",
       "title_subjectivity                       0\n",
       "id                                       0\n",
       "first_review                             0\n",
       "review_scores_rating                     0\n",
       "minimum_nights                           0\n",
       "host_is_superhost                        0\n",
       "host_listings_count                      0\n",
       "host_total_listings_count                0\n",
       "host_verifications                       0\n",
       "host_identity_verified                   0\n",
       "room_type                                0\n",
       "accommodates                             0\n",
       "maximum_nights                           0\n",
       "last_review                              0\n",
       "availability_30                          0\n",
       "availability_60                          0\n",
       "availability_90                          0\n",
       "availability_365                         0\n",
       "number_of_reviews                        0\n",
       "number_of_reviews_l30d                   0\n",
       "host_since                               0\n",
       "success_score                            0\n",
       "dtype: int64"
      ]
     },
     "execution_count": 66,
     "metadata": {},
     "output_type": "execute_result"
    }
   ],
   "source": [
    "# Another look at missing data.\n",
    "master_data.isna().sum().sort_values(ascending=False)"
   ]
  },
  {
   "cell_type": "code",
   "execution_count": 67,
   "metadata": {},
   "outputs": [],
   "source": [
    "# Replace missing polarity and subjectivity scores with 0 (i.e. neutral and factual).\n",
    "master_data.host_about_polarity = master_data.host_about_polarity.fillna(0)\n",
    "master_data.host_about_subjectivity = master_data.host_about_subjectivity.fillna(0)\n",
    "master_data.neighborhood_overview_polarity = master_data.neighborhood_overview_polarity.fillna(0)\n",
    "master_data.neighborhood_overview_subjectivity = master_data.neighborhood_overview_subjectivity.fillna(0)\n",
    "master_data.description_polarity = master_data.description_polarity.fillna(0)\n",
    "master_data.description_subjectivity = master_data.description_subjectivity.fillna(0)\n",
    "\n",
    "# Replace missing host_response_rate, host_acceptance_rate with mean values.\n",
    "master_data.host_response_rate = master_data.host_response_rate.fillna(master_data.host_response_rate.mean())\n",
    "master_data.host_acceptance_rate = master_data.host_acceptance_rate.fillna(master_data.host_acceptance_rate.mean()) \n",
    "\n",
    "# Replace missing host_response_time with mode values.\n",
    "master_data.host_response_time = master_data.host_response_time.fillna(master_data.host_response_time.mode().values[0])"
   ]
  },
  {
   "cell_type": "code",
   "execution_count": 68,
   "metadata": {},
   "outputs": [
    {
     "data": {
      "text/html": [
       "<div>\n",
       "<style scoped>\n",
       "    .dataframe tbody tr th:only-of-type {\n",
       "        vertical-align: middle;\n",
       "    }\n",
       "\n",
       "    .dataframe tbody tr th {\n",
       "        vertical-align: top;\n",
       "    }\n",
       "\n",
       "    .dataframe thead th {\n",
       "        text-align: right;\n",
       "    }\n",
       "</style>\n",
       "<table border=\"1\" class=\"dataframe\">\n",
       "  <thead>\n",
       "    <tr style=\"text-align: right;\">\n",
       "      <th></th>\n",
       "      <th>id</th>\n",
       "      <th>host_since</th>\n",
       "      <th>host_response_time</th>\n",
       "      <th>host_response_rate</th>\n",
       "      <th>host_acceptance_rate</th>\n",
       "      <th>host_is_superhost</th>\n",
       "      <th>host_listings_count</th>\n",
       "      <th>host_total_listings_count</th>\n",
       "      <th>host_verifications</th>\n",
       "      <th>host_identity_verified</th>\n",
       "      <th>...</th>\n",
       "      <th>title_subjectivity</th>\n",
       "      <th>description_polarity</th>\n",
       "      <th>description_subjectivity</th>\n",
       "      <th>neighborhood_overview_polarity</th>\n",
       "      <th>neighborhood_overview_subjectivity</th>\n",
       "      <th>host_about_polarity</th>\n",
       "      <th>host_about_subjectivity</th>\n",
       "      <th>images_keywords</th>\n",
       "      <th>images_confidences</th>\n",
       "      <th>success_score</th>\n",
       "    </tr>\n",
       "  </thead>\n",
       "  <tbody>\n",
       "    <tr>\n",
       "      <th>1</th>\n",
       "      <td>707097</td>\n",
       "      <td>3792</td>\n",
       "      <td>within a day</td>\n",
       "      <td>50.000000</td>\n",
       "      <td>84.0</td>\n",
       "      <td>f</td>\n",
       "      <td>9</td>\n",
       "      <td>16</td>\n",
       "      <td>18</td>\n",
       "      <td>t</td>\n",
       "      <td>...</td>\n",
       "      <td>0.000000</td>\n",
       "      <td>0.000000</td>\n",
       "      <td>0.000000</td>\n",
       "      <td>0.500000</td>\n",
       "      <td>0.650000</td>\n",
       "      <td>0.700000</td>\n",
       "      <td>0.550000</td>\n",
       "      <td>['Couch', 'Furniture', 'Indoors', 'Interior De...</td>\n",
       "      <td>[99.99188232421875, 56.51210403442383, 99.9908...</td>\n",
       "      <td>1.413482</td>\n",
       "    </tr>\n",
       "    <tr>\n",
       "      <th>2</th>\n",
       "      <td>728199</td>\n",
       "      <td>3723</td>\n",
       "      <td>within an hour</td>\n",
       "      <td>100.000000</td>\n",
       "      <td>95.0</td>\n",
       "      <td>t</td>\n",
       "      <td>1</td>\n",
       "      <td>2</td>\n",
       "      <td>18</td>\n",
       "      <td>t</td>\n",
       "      <td>...</td>\n",
       "      <td>0.250000</td>\n",
       "      <td>0.308384</td>\n",
       "      <td>0.471296</td>\n",
       "      <td>0.415789</td>\n",
       "      <td>0.568421</td>\n",
       "      <td>0.539323</td>\n",
       "      <td>0.625000</td>\n",
       "      <td>['Indoors', 'Interior Design', 'Wood', 'Hardwo...</td>\n",
       "      <td>[99.99758911132812, 99.99758911132812, 100.0, ...</td>\n",
       "      <td>0.398385</td>\n",
       "    </tr>\n",
       "    <tr>\n",
       "      <th>3</th>\n",
       "      <td>732008</td>\n",
       "      <td>3720</td>\n",
       "      <td>within an hour</td>\n",
       "      <td>100.000000</td>\n",
       "      <td>99.0</td>\n",
       "      <td>f</td>\n",
       "      <td>6</td>\n",
       "      <td>9</td>\n",
       "      <td>18</td>\n",
       "      <td>t</td>\n",
       "      <td>...</td>\n",
       "      <td>0.000000</td>\n",
       "      <td>0.329877</td>\n",
       "      <td>0.625805</td>\n",
       "      <td>0.000000</td>\n",
       "      <td>0.000000</td>\n",
       "      <td>0.000000</td>\n",
       "      <td>0.000000</td>\n",
       "      <td>['Pool', 'Water', 'Architecture', 'Building', ...</td>\n",
       "      <td>[99.9551010131836, 99.9551010131836, 99.828170...</td>\n",
       "      <td>1.005116</td>\n",
       "    </tr>\n",
       "    <tr>\n",
       "      <th>5</th>\n",
       "      <td>748646</td>\n",
       "      <td>3709</td>\n",
       "      <td>within an hour</td>\n",
       "      <td>100.000000</td>\n",
       "      <td>91.0</td>\n",
       "      <td>f</td>\n",
       "      <td>2</td>\n",
       "      <td>2</td>\n",
       "      <td>32</td>\n",
       "      <td>t</td>\n",
       "      <td>...</td>\n",
       "      <td>0.875000</td>\n",
       "      <td>0.270217</td>\n",
       "      <td>0.464132</td>\n",
       "      <td>0.097917</td>\n",
       "      <td>0.577083</td>\n",
       "      <td>0.100000</td>\n",
       "      <td>0.100000</td>\n",
       "      <td>['Tub', 'Indoors', 'Interior Design', 'Bathing...</td>\n",
       "      <td>[99.64403533935547, 99.99998474121094, 99.8982...</td>\n",
       "      <td>0.157973</td>\n",
       "    </tr>\n",
       "    <tr>\n",
       "      <th>6</th>\n",
       "      <td>749042</td>\n",
       "      <td>3708</td>\n",
       "      <td>within a few hours</td>\n",
       "      <td>100.000000</td>\n",
       "      <td>67.0</td>\n",
       "      <td>t</td>\n",
       "      <td>1</td>\n",
       "      <td>1</td>\n",
       "      <td>18</td>\n",
       "      <td>t</td>\n",
       "      <td>...</td>\n",
       "      <td>0.553571</td>\n",
       "      <td>0.253593</td>\n",
       "      <td>0.500216</td>\n",
       "      <td>0.068561</td>\n",
       "      <td>0.509722</td>\n",
       "      <td>0.180714</td>\n",
       "      <td>0.397857</td>\n",
       "      <td>['Beach', 'Coast', 'Nature', 'Outdoors', 'Sea'...</td>\n",
       "      <td>[99.9984359741211, 99.9984359741211, 61.348407...</td>\n",
       "      <td>0.066545</td>\n",
       "    </tr>\n",
       "    <tr>\n",
       "      <th>...</th>\n",
       "      <td>...</td>\n",
       "      <td>...</td>\n",
       "      <td>...</td>\n",
       "      <td>...</td>\n",
       "      <td>...</td>\n",
       "      <td>...</td>\n",
       "      <td>...</td>\n",
       "      <td>...</td>\n",
       "      <td>...</td>\n",
       "      <td>...</td>\n",
       "      <td>...</td>\n",
       "      <td>...</td>\n",
       "      <td>...</td>\n",
       "      <td>...</td>\n",
       "      <td>...</td>\n",
       "      <td>...</td>\n",
       "      <td>...</td>\n",
       "      <td>...</td>\n",
       "      <td>...</td>\n",
       "      <td>...</td>\n",
       "      <td>...</td>\n",
       "    </tr>\n",
       "    <tr>\n",
       "      <th>7372</th>\n",
       "      <td>303689</td>\n",
       "      <td>4000</td>\n",
       "      <td>within a day</td>\n",
       "      <td>100.000000</td>\n",
       "      <td>100.0</td>\n",
       "      <td>f</td>\n",
       "      <td>1</td>\n",
       "      <td>1</td>\n",
       "      <td>18</td>\n",
       "      <td>f</td>\n",
       "      <td>...</td>\n",
       "      <td>0.273810</td>\n",
       "      <td>0.197143</td>\n",
       "      <td>0.505794</td>\n",
       "      <td>0.000000</td>\n",
       "      <td>0.000000</td>\n",
       "      <td>0.325758</td>\n",
       "      <td>0.550000</td>\n",
       "      <td>['Floor', 'Flooring', 'Indoors', 'Interior Des...</td>\n",
       "      <td>[65.7539291381836, 57.86531066894531, 99.80908...</td>\n",
       "      <td>0.016928</td>\n",
       "    </tr>\n",
       "    <tr>\n",
       "      <th>7375</th>\n",
       "      <td>327159</td>\n",
       "      <td>3973</td>\n",
       "      <td>within an hour</td>\n",
       "      <td>100.000000</td>\n",
       "      <td>99.0</td>\n",
       "      <td>f</td>\n",
       "      <td>8</td>\n",
       "      <td>10</td>\n",
       "      <td>32</td>\n",
       "      <td>t</td>\n",
       "      <td>...</td>\n",
       "      <td>0.483333</td>\n",
       "      <td>0.187048</td>\n",
       "      <td>0.412937</td>\n",
       "      <td>0.288333</td>\n",
       "      <td>0.526373</td>\n",
       "      <td>0.318182</td>\n",
       "      <td>0.625000</td>\n",
       "      <td>['Lamp', 'Bed', 'Furniture', 'Blanket', 'Home ...</td>\n",
       "      <td>[99.20364379882812, 96.61839294433594, 99.9428...</td>\n",
       "      <td>0.000000</td>\n",
       "    </tr>\n",
       "    <tr>\n",
       "      <th>7376</th>\n",
       "      <td>327161</td>\n",
       "      <td>3973</td>\n",
       "      <td>within an hour</td>\n",
       "      <td>100.000000</td>\n",
       "      <td>99.0</td>\n",
       "      <td>f</td>\n",
       "      <td>8</td>\n",
       "      <td>10</td>\n",
       "      <td>32</td>\n",
       "      <td>t</td>\n",
       "      <td>...</td>\n",
       "      <td>0.600000</td>\n",
       "      <td>0.212698</td>\n",
       "      <td>0.406746</td>\n",
       "      <td>0.413889</td>\n",
       "      <td>0.494444</td>\n",
       "      <td>0.318182</td>\n",
       "      <td>0.625000</td>\n",
       "      <td>['Architecture', 'Building', 'City', 'Urban', ...</td>\n",
       "      <td>[99.9959945678711, 99.9959945678711, 99.950050...</td>\n",
       "      <td>0.180358</td>\n",
       "    </tr>\n",
       "    <tr>\n",
       "      <th>7383</th>\n",
       "      <td>361050</td>\n",
       "      <td>3944</td>\n",
       "      <td>within a few hours</td>\n",
       "      <td>100.000000</td>\n",
       "      <td>77.0</td>\n",
       "      <td>t</td>\n",
       "      <td>1</td>\n",
       "      <td>2</td>\n",
       "      <td>18</td>\n",
       "      <td>t</td>\n",
       "      <td>...</td>\n",
       "      <td>0.338393</td>\n",
       "      <td>0.174097</td>\n",
       "      <td>0.466336</td>\n",
       "      <td>0.211859</td>\n",
       "      <td>0.521795</td>\n",
       "      <td>0.093669</td>\n",
       "      <td>0.445172</td>\n",
       "      <td>['Couch', 'Furniture', 'Animal', 'Cat', 'Mamma...</td>\n",
       "      <td>[99.62174224853516, 99.0238265991211, 97.97054...</td>\n",
       "      <td>0.396916</td>\n",
       "    </tr>\n",
       "    <tr>\n",
       "      <th>7388</th>\n",
       "      <td>389318</td>\n",
       "      <td>3925</td>\n",
       "      <td>within an hour</td>\n",
       "      <td>96.818165</td>\n",
       "      <td>0.0</td>\n",
       "      <td>f</td>\n",
       "      <td>1</td>\n",
       "      <td>1</td>\n",
       "      <td>18</td>\n",
       "      <td>t</td>\n",
       "      <td>...</td>\n",
       "      <td>1.000000</td>\n",
       "      <td>0.059962</td>\n",
       "      <td>0.387469</td>\n",
       "      <td>0.388889</td>\n",
       "      <td>0.444444</td>\n",
       "      <td>0.395455</td>\n",
       "      <td>0.559091</td>\n",
       "      <td>['Indoors', 'Interior Design', 'Lamp', 'Furnit...</td>\n",
       "      <td>[99.8916015625, 80.52789306640625, 99.40480041...</td>\n",
       "      <td>0.000000</td>\n",
       "    </tr>\n",
       "  </tbody>\n",
       "</table>\n",
       "<p>4512 rows × 44 columns</p>\n",
       "</div>"
      ],
      "text/plain": [
       "          id  host_since  host_response_time  host_response_rate  \\\n",
       "1     707097        3792        within a day           50.000000   \n",
       "2     728199        3723      within an hour          100.000000   \n",
       "3     732008        3720      within an hour          100.000000   \n",
       "5     748646        3709      within an hour          100.000000   \n",
       "6     749042        3708  within a few hours          100.000000   \n",
       "...      ...         ...                 ...                 ...   \n",
       "7372  303689        4000        within a day          100.000000   \n",
       "7375  327159        3973      within an hour          100.000000   \n",
       "7376  327161        3973      within an hour          100.000000   \n",
       "7383  361050        3944  within a few hours          100.000000   \n",
       "7388  389318        3925      within an hour           96.818165   \n",
       "\n",
       "      host_acceptance_rate host_is_superhost  host_listings_count  \\\n",
       "1                     84.0                 f                    9   \n",
       "2                     95.0                 t                    1   \n",
       "3                     99.0                 f                    6   \n",
       "5                     91.0                 f                    2   \n",
       "6                     67.0                 t                    1   \n",
       "...                    ...               ...                  ...   \n",
       "7372                 100.0                 f                    1   \n",
       "7375                  99.0                 f                    8   \n",
       "7376                  99.0                 f                    8   \n",
       "7383                  77.0                 t                    1   \n",
       "7388                   0.0                 f                    1   \n",
       "\n",
       "      host_total_listings_count  host_verifications host_identity_verified  \\\n",
       "1                            16                  18                      t   \n",
       "2                             2                  18                      t   \n",
       "3                             9                  18                      t   \n",
       "5                             2                  32                      t   \n",
       "6                             1                  18                      t   \n",
       "...                         ...                 ...                    ...   \n",
       "7372                          1                  18                      f   \n",
       "7375                         10                  32                      t   \n",
       "7376                         10                  32                      t   \n",
       "7383                          2                  18                      t   \n",
       "7388                          1                  18                      t   \n",
       "\n",
       "      ... title_subjectivity  description_polarity  description_subjectivity  \\\n",
       "1     ...           0.000000              0.000000                  0.000000   \n",
       "2     ...           0.250000              0.308384                  0.471296   \n",
       "3     ...           0.000000              0.329877                  0.625805   \n",
       "5     ...           0.875000              0.270217                  0.464132   \n",
       "6     ...           0.553571              0.253593                  0.500216   \n",
       "...   ...                ...                   ...                       ...   \n",
       "7372  ...           0.273810              0.197143                  0.505794   \n",
       "7375  ...           0.483333              0.187048                  0.412937   \n",
       "7376  ...           0.600000              0.212698                  0.406746   \n",
       "7383  ...           0.338393              0.174097                  0.466336   \n",
       "7388  ...           1.000000              0.059962                  0.387469   \n",
       "\n",
       "      neighborhood_overview_polarity  neighborhood_overview_subjectivity  \\\n",
       "1                           0.500000                            0.650000   \n",
       "2                           0.415789                            0.568421   \n",
       "3                           0.000000                            0.000000   \n",
       "5                           0.097917                            0.577083   \n",
       "6                           0.068561                            0.509722   \n",
       "...                              ...                                 ...   \n",
       "7372                        0.000000                            0.000000   \n",
       "7375                        0.288333                            0.526373   \n",
       "7376                        0.413889                            0.494444   \n",
       "7383                        0.211859                            0.521795   \n",
       "7388                        0.388889                            0.444444   \n",
       "\n",
       "      host_about_polarity  host_about_subjectivity  \\\n",
       "1                0.700000                 0.550000   \n",
       "2                0.539323                 0.625000   \n",
       "3                0.000000                 0.000000   \n",
       "5                0.100000                 0.100000   \n",
       "6                0.180714                 0.397857   \n",
       "...                   ...                      ...   \n",
       "7372             0.325758                 0.550000   \n",
       "7375             0.318182                 0.625000   \n",
       "7376             0.318182                 0.625000   \n",
       "7383             0.093669                 0.445172   \n",
       "7388             0.395455                 0.559091   \n",
       "\n",
       "                                        images_keywords  \\\n",
       "1     ['Couch', 'Furniture', 'Indoors', 'Interior De...   \n",
       "2     ['Indoors', 'Interior Design', 'Wood', 'Hardwo...   \n",
       "3     ['Pool', 'Water', 'Architecture', 'Building', ...   \n",
       "5     ['Tub', 'Indoors', 'Interior Design', 'Bathing...   \n",
       "6     ['Beach', 'Coast', 'Nature', 'Outdoors', 'Sea'...   \n",
       "...                                                 ...   \n",
       "7372  ['Floor', 'Flooring', 'Indoors', 'Interior Des...   \n",
       "7375  ['Lamp', 'Bed', 'Furniture', 'Blanket', 'Home ...   \n",
       "7376  ['Architecture', 'Building', 'City', 'Urban', ...   \n",
       "7383  ['Couch', 'Furniture', 'Animal', 'Cat', 'Mamma...   \n",
       "7388  ['Indoors', 'Interior Design', 'Lamp', 'Furnit...   \n",
       "\n",
       "                                     images_confidences  success_score  \n",
       "1     [99.99188232421875, 56.51210403442383, 99.9908...       1.413482  \n",
       "2     [99.99758911132812, 99.99758911132812, 100.0, ...       0.398385  \n",
       "3     [99.9551010131836, 99.9551010131836, 99.828170...       1.005116  \n",
       "5     [99.64403533935547, 99.99998474121094, 99.8982...       0.157973  \n",
       "6     [99.9984359741211, 99.9984359741211, 61.348407...       0.066545  \n",
       "...                                                 ...            ...  \n",
       "7372  [65.7539291381836, 57.86531066894531, 99.80908...       0.016928  \n",
       "7375  [99.20364379882812, 96.61839294433594, 99.9428...       0.000000  \n",
       "7376  [99.9959945678711, 99.9959945678711, 99.950050...       0.180358  \n",
       "7383  [99.62174224853516, 99.0238265991211, 97.97054...       0.396916  \n",
       "7388  [99.8916015625, 80.52789306640625, 99.40480041...       0.000000  \n",
       "\n",
       "[4512 rows x 44 columns]"
      ]
     },
     "execution_count": 68,
     "metadata": {},
     "output_type": "execute_result"
    }
   ],
   "source": [
    "# Remove all rows with missing values still remaining.\n",
    "master_data = master_data.dropna()\n",
    "master_data"
   ]
  },
  {
   "cell_type": "code",
   "execution_count": 69,
   "metadata": {},
   "outputs": [
    {
     "name": "stdout",
     "output_type": "stream",
     "text": [
      "minimum_nights                 21.987639\n",
      "host_total_listings_count      13.849192\n",
      "host_listings_count            12.079675\n",
      "beds                            4.765847\n",
      "last_review                     3.584716\n",
      "number_of_reviews_l30d          3.419912\n",
      "number_of_reviews               2.903261\n",
      "bedrooms                        1.947026\n",
      "success_score                   1.923548\n",
      "reviews_per_month               1.882003\n",
      "accommodates                    1.665009\n",
      "host_verifications              1.146217\n",
      "host_acceptance_rate           -3.418289\n",
      "review_scores_value            -4.787247\n",
      "review_scores_cleanliness      -4.813737\n",
      "review_scores_rating           -5.211000\n",
      "review_scores_location         -5.714130\n",
      "review_scores_accuracy         -6.161939\n",
      "review_scores_checkin          -6.204161\n",
      "host_response_rate             -6.703041\n",
      "review_scores_communication    -6.921178\n",
      "dtype: float64\n"
     ]
    }
   ],
   "source": [
    "# Calculate the skewness of the features.\n",
    "skewness = master_data.skew().sort_values(ascending=False)\n",
    "print(skewness[abs(skewness) > 1])\n",
    "\n",
    "# Don't worry about skewness with the success scores or id.\n",
    "skewness.success_score = 0\n",
    "skewness.id = 0"
   ]
  },
  {
   "cell_type": "code",
   "execution_count": 70,
   "metadata": {},
   "outputs": [],
   "source": [
    "# Deal with positive skewness by performing a square root transformation.\n",
    "for skew_feature in skewness[skewness > 1.5].index:\n",
    "    master_data[skew_feature] = np.power(master_data[skew_feature], 1/2)\n",
    "\n",
    "# Deal with negative skewness by performing a square transformation.\n",
    "for skew_feature in skewness[skewness < -1.5].index:\n",
    "    master_data[skew_feature] = np.power(master_data[skew_feature], 2)"
   ]
  },
  {
   "cell_type": "code",
   "execution_count": 71,
   "metadata": {},
   "outputs": [
    {
     "name": "stdout",
     "output_type": "stream",
     "text": [
      "minimum_nights                 12.427903\n",
      "host_total_listings_count       6.118373\n",
      "host_listings_count             5.840698\n",
      "last_review                     2.146830\n",
      "success_score                   1.923548\n",
      "beds                            1.691415\n",
      "number_of_reviews               1.223847\n",
      "bedrooms                        1.211955\n",
      "host_verifications              1.146217\n",
      "host_acceptance_rate           -2.259816\n",
      "review_scores_value            -2.879453\n",
      "review_scores_cleanliness      -2.955166\n",
      "review_scores_rating           -3.158199\n",
      "review_scores_location         -3.337822\n",
      "review_scores_accuracy         -4.173582\n",
      "review_scores_checkin          -4.192822\n",
      "review_scores_communication    -4.433025\n",
      "host_response_rate             -4.820845\n",
      "dtype: float64\n"
     ]
    }
   ],
   "source": [
    "# Re-assess skewness.\n",
    "skewness = master_data.skew().sort_values(ascending=False)\n",
    "print(skewness[abs(skewness) > 1])\n",
    "\n",
    "# Don't worry about skewness with the success scores.\n",
    "skewness.success_score = 0\n",
    "skewness.id = 0"
   ]
  },
  {
   "cell_type": "code",
   "execution_count": 72,
   "metadata": {},
   "outputs": [],
   "source": [
    "# Deal with positive skewness AGAIN by performing a square root transformation AGAIN (i.e. fourth root).\n",
    "for skew_feature in skewness[skewness > 1.5].index:\n",
    "    master_data[skew_feature] = np.power(master_data[skew_feature], 1/2)\n",
    "\n",
    "# Deal with negative skewness AGAIN by performing a square transformation AGAIN (i.e. to power 4).\n",
    "for skew_feature in skewness[skewness < -1.5].index:\n",
    "    master_data[skew_feature] = np.power(master_data[skew_feature], 2)"
   ]
  },
  {
   "cell_type": "code",
   "execution_count": 73,
   "metadata": {},
   "outputs": [
    {
     "name": "stdout",
     "output_type": "stream",
     "text": [
      "minimum_nights                 6.542786\n",
      "host_total_listings_count      3.227918\n",
      "host_listings_count            3.074636\n",
      "success_score                  1.923548\n",
      "last_review                    1.312855\n",
      "number_of_reviews              1.223847\n",
      "bedrooms                       1.211955\n",
      "host_verifications             1.146217\n",
      "beds                           1.064982\n",
      "review_scores_value           -1.484792\n",
      "host_acceptance_rate          -1.504017\n",
      "review_scores_cleanliness     -1.701300\n",
      "review_scores_rating          -1.724619\n",
      "review_scores_location        -1.930659\n",
      "review_scores_accuracy        -2.541275\n",
      "review_scores_communication   -2.731764\n",
      "review_scores_checkin         -2.742524\n",
      "host_response_rate            -3.435799\n",
      "dtype: float64\n"
     ]
    }
   ],
   "source": [
    "# Re-assess skewness.\n",
    "skewness = master_data.skew().sort_values(ascending=False)\n",
    "print(skewness[abs(skewness) > 1])\n",
    "\n",
    "# Don't worry about skewness with the success scores.\n",
    "skewness.success_score = 0"
   ]
  },
  {
   "cell_type": "code",
   "execution_count": 74,
   "metadata": {},
   "outputs": [],
   "source": [
    "# Convert categorical (e.g. boolean) types to numeric...\n",
    "\n",
    "master_data.host_response_time = master_data.host_response_time.map(\n",
    "    lambda x : {'within an hour' : 1, 'within a few hours' : 2, 'within a day' : 3, 'a few days or more' : 4}.get(x, 0)\n",
    ")\n",
    "\n",
    "master_data.host_is_superhost = master_data.host_is_superhost.map(\n",
    "    lambda x : {'t' : 1, 'f' : 0}.get(x, 0)\n",
    ")\n",
    "\n",
    "master_data.host_identity_verified = master_data.host_identity_verified.map(\n",
    "    lambda x : {'t' : 1, 'f' : 0}.get(x, 0)\n",
    ")\n",
    "\n",
    "master_data.room_type = master_data.room_type.map(\n",
    "    lambda x : {'Entire home/apt' : 1, 'Private room' : 2, 'Hotel room' : 3, 'Shared room' : 4}.get(x, 0)\n",
    ")\n",
    "\n",
    "master_data.instant_bookable = master_data.instant_bookable.map(\n",
    "    lambda x : {'t' : 1, 'f' : 0}.get(x, 0)\n",
    ")"
   ]
  },
  {
   "cell_type": "code",
   "execution_count": 75,
   "metadata": {},
   "outputs": [
    {
     "data": {
      "text/plain": [
       "<AxesSubplot: >"
      ]
     },
     "execution_count": 75,
     "metadata": {},
     "output_type": "execute_result"
    },
    {
     "data": {
      "image/png": "[encoded data removed]",
      "text/plain": [
       "<Figure size 640x480 with 2 Axes>"
      ]
     },
     "metadata": {},
     "output_type": "display_data"
    }
   ],
   "source": [
    "# Show the correlations with success.\n",
    "corr = master_data.corr()[['success_score']]\n",
    "sns.heatmap(corr, annot=True, vmin=-1, vmax=1)"
   ]
  },
  {
   "attachments": {},
   "cell_type": "markdown",
   "metadata": {},
   "source": [
    "## Data Preprocessing: Creating New Features"
   ]
  },
  {
   "attachments": {},
   "cell_type": "markdown",
   "metadata": {},
   "source": [
    "From the mean scores of each image keyword, come up with an average scoring of the extracted keywords for each listing. That is, from the calculated success scores of each extracted image keywords, calcualted the perceived success in the images.\n",
    "\n",
    "We will weight this average using the confidence scores (e.g. if we are 87% confident in the keyword \"window\", and \"window\" has an average score of 1.0, then the contribution of \"window\" to the perceived image score of all listings it appears in is 1.0 * 0.87 = 0.87)."
   ]
  },
  {
   "cell_type": "code",
   "execution_count": 76,
   "metadata": {},
   "outputs": [],
   "source": [
    "# Calcualte the success of the image keywords.\n",
    "keyword_success = create_data.mean_keyword_scores(master_data[['id', 'success_score']], 'datasets/image_keywords_edinburgh.csv')"
   ]
  },
  {
   "cell_type": "code",
   "execution_count": 77,
   "metadata": {},
   "outputs": [],
   "source": [
    "# For each listing, compute the mean and standard deviation in the perceived success of image keywords.\n",
    "weighted_image_score = []\n",
    "std_image_score = []\n",
    "\n",
    "for i in range(len(master_data.index)):\n",
    "    entry = master_data.iloc[i]\n",
    "\n",
    "    keywords = ast.literal_eval(entry.images_keywords)\n",
    "    confidences = ast.literal_eval(entry.images_confidences)\n",
    "\n",
    "    scores = []\n",
    "    for j in range(len(keywords)):\n",
    "        scores.append(keyword_success[keywords[j]] * (confidences[j] / 100)) \n",
    "\n",
    "    weighted_image_score.append(np.mean(scores))\n",
    "    std_image_score.append(np.std(scores))\n",
    "\n",
    "master_data['weighted_image_score'] = weighted_image_score\n",
    "master_data['std_image_score'] = std_image_score"
   ]
  },
  {
   "cell_type": "code",
   "execution_count": 78,
   "metadata": {},
   "outputs": [
    {
     "data": {
      "text/plain": [
       "count    4512.000000\n",
       "mean        0.241897\n",
       "std         0.019780\n",
       "min         0.166513\n",
       "25%         0.228378\n",
       "50%         0.241937\n",
       "75%         0.255069\n",
       "max         0.332465\n",
       "Name: weighted_image_score, dtype: float64"
      ]
     },
     "execution_count": 78,
     "metadata": {},
     "output_type": "execute_result"
    }
   ],
   "source": [
    "master_data.weighted_image_score.describe()"
   ]
  },
  {
   "cell_type": "code",
   "execution_count": 79,
   "metadata": {},
   "outputs": [
    {
     "data": {
      "text/plain": [
       "count    4512.000000\n",
       "mean        0.071370\n",
       "std         0.009856\n",
       "min         0.019068\n",
       "25%         0.066316\n",
       "50%         0.071424\n",
       "75%         0.076109\n",
       "max         0.283210\n",
       "Name: std_image_score, dtype: float64"
      ]
     },
     "execution_count": 79,
     "metadata": {},
     "output_type": "execute_result"
    }
   ],
   "source": [
    "master_data.std_image_score.describe()"
   ]
  },
  {
   "attachments": {},
   "cell_type": "markdown",
   "metadata": {},
   "source": [
    "We would like to compare successful listings with unsuccessful listings. So let's split the data into listings that are more successful than average and listings that are less successful than average."
   ]
  },
  {
   "cell_type": "code",
   "execution_count": 80,
   "metadata": {},
   "outputs": [],
   "source": [
    "# Create better_than_average feature\n",
    "master_data['better_than_average'] = master_data.success_score > np.mean(master_data.success_score)"
   ]
  },
  {
   "attachments": {},
   "cell_type": "markdown",
   "metadata": {},
   "source": [
    "## Having a Wee Explore"
   ]
  },
  {
   "cell_type": "code",
   "execution_count": 81,
   "metadata": {},
   "outputs": [],
   "source": [
    "# Beautification.\n",
    "sns.set_style('darkgrid')\n",
    "sns.set_style({'font.family':'serif', 'font.serif':'Times New Roman'})\n",
    "sns.set_context('paper')\n",
    "sns.set_palette('Set2')"
   ]
  },
  {
   "attachments": {},
   "cell_type": "markdown",
   "metadata": {},
   "source": [
    "Investigating differences between the distribution of features between more and less successful listings."
   ]
  },
  {
   "attachments": {},
   "cell_type": "markdown",
   "metadata": {},
   "source": [
    "### Weight Image Score"
   ]
  },
  {
   "cell_type": "code",
   "execution_count": 82,
   "metadata": {},
   "outputs": [
    {
     "data": {
      "image/png": "[encoded data removed]",
      "text/plain": [
       "<Figure size 500x300 with 1 Axes>"
      ]
     },
     "metadata": {},
     "output_type": "display_data"
    }
   ],
   "source": [
    "fig, ax = plt.subplots(figsize=(5, 3))\n",
    "\n",
    "less_sample = master_data[master_data.better_than_average == False].weighted_image_score\n",
    "more_sample = master_data[master_data.better_than_average == True].weighted_image_score\n",
    "\n",
    "sns.distplot(less_sample, \n",
    "             ax=ax, label='Less Successful')\n",
    "sns.distplot(more_sample, \n",
    "             ax=ax, label='More Successful')\n",
    "\n",
    "ax.legend()\n",
    "ax.set_title(\"Distributions of Weighted Image Scores in Listings\", pad=10)\n",
    "ax.set_ylabel(\"\")\n",
    "ax.set_xlabel(\"Weighted Image Score\")\n",
    "\n",
    "fig.savefig('figures/weighted_image_scores_disctribution_comparison.pdf', \n",
    "            dpi=300, format='pdf', bbox_inches='tight', facecolor='white')"
   ]
  },
  {
   "cell_type": "code",
   "execution_count": 83,
   "metadata": {},
   "outputs": [
    {
     "name": "stdout",
     "output_type": "stream",
     "text": [
      "Number of more successful listings: 1547\n",
      "Number of less successful listings: 2965\n",
      "Hence, total: 4512\n"
     ]
    }
   ],
   "source": [
    "print(\"Number of more successful listings:\", len(more_sample))\n",
    "print(\"Number of less successful listings:\", len(less_sample))\n",
    "print(\"Hence, total:\", len(more_sample) + len(less_sample))"
   ]
  },
  {
   "attachments": {},
   "cell_type": "markdown",
   "metadata": {},
   "source": [
    "Performing the two-sample one-tailed student's t-test to find whether the mean of the *more* distrubtion is greater than the mean of the *less* distribution..."
   ]
  },
  {
   "cell_type": "code",
   "execution_count": 84,
   "metadata": {},
   "outputs": [
    {
     "name": "stdout",
     "output_type": "stream",
     "text": [
      "p-value for the two-sample one-tailed student's t-test: 6.746079414665182e-14\n",
      "Hence, we can reject the null hypothesis (that the means are equal).\n"
     ]
    }
   ],
   "source": [
    "sig_level = 0.01\n",
    "\n",
    "_, double_p = ttest_ind(more_sample, less_sample, equal_var=False)\n",
    "\n",
    "if np.mean(more_sample) > np.mean(less_sample):\n",
    "    p_value = double_p / 2\n",
    "\n",
    "else:\n",
    "    p_value = 1 - (double_p / 2)\n",
    "\n",
    "print(\"p-value for the two-sample one-tailed student's t-test:\", p_value)\n",
    "\n",
    "if p_value < sig_level:\n",
    "    print(\"Hence, we can reject the null hypothesis (that the means are equal).\")\n",
    "\n",
    "else:\n",
    "    print(\"Hence, we cannot reject the null hypothesis (that the means are equal)\")"
   ]
  }
 ],
 "metadata": {
  "kernelspec": {
   "display_name": "Python 3",
   "language": "python",
   "name": "python3"
  },
  "language_info": {
   "codemirror_mode": {
    "name": "ipython",
    "version": 3
   },
   "file_extension": ".py",
   "mimetype": "text/x-python",
   "name": "python",
   "nbconvert_exporter": "python",
   "pygments_lexer": "ipython3",
   "version": "3.9.13"
  },
  "orig_nbformat": 4,
  "vscode": {
   "interpreter": {
    "hash": "51b247d887519ae5f7ee722485e5c6dc7c9b200f006446aff3a9d042e7ab81e7"
   }
  }
 },
 "nbformat": 4,
 "nbformat_minor": 2
}
