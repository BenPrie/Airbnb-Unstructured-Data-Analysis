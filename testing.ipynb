{
 "cells": [
  {
   "cell_type": "code",
   "execution_count": 152,
   "metadata": {},
   "outputs": [],
   "source": [
    "# Imports, as always...\n",
    "import pandas as pd\n",
    "import numpy as np\n",
    "from pathlib import Path\n",
    "import os\n",
    "import ast\n",
    "from datetime import datetime\n",
    "import matplotlib.pyplot as plt\n",
    "import seaborn as sns\n",
    "\n",
    "import image_keyword_features\n",
    "import create_data\n",
    "\n",
    "import warnings\n",
    "warnings.filterwarnings('ignore')"
   ]
  },
  {
   "attachments": {},
   "cell_type": "markdown",
   "metadata": {},
   "source": [
    "---\n",
    "\n",
    "# Updates to RQ1"
   ]
  },
  {
   "attachments": {},
   "cell_type": "markdown",
   "metadata": {},
   "source": [
    "Testing has shown that there is not much to be learnt from the perceived sentiment of listing images..."
   ]
  },
  {
   "cell_type": "code",
   "execution_count": 5,
   "metadata": {},
   "outputs": [],
   "source": [
    "data = image_keyword_features.compute_image_sentiments('datasets/image_keywords_edinburgh.csv')"
   ]
  },
  {
   "cell_type": "code",
   "execution_count": 8,
   "metadata": {},
   "outputs": [
    {
     "data": {
      "text/html": [
       "<div>\n",
       "<style scoped>\n",
       "    .dataframe tbody tr th:only-of-type {\n",
       "        vertical-align: middle;\n",
       "    }\n",
       "\n",
       "    .dataframe tbody tr th {\n",
       "        vertical-align: top;\n",
       "    }\n",
       "\n",
       "    .dataframe thead th {\n",
       "        text-align: right;\n",
       "    }\n",
       "</style>\n",
       "<table border=\"1\" class=\"dataframe\">\n",
       "  <thead>\n",
       "    <tr style=\"text-align: right;\">\n",
       "      <th></th>\n",
       "      <th>id</th>\n",
       "      <th>mean_sentiment</th>\n",
       "      <th>std_sentiment</th>\n",
       "      <th>extraction_count</th>\n",
       "    </tr>\n",
       "  </thead>\n",
       "  <tbody>\n",
       "    <tr>\n",
       "      <th>3064</th>\n",
       "      <td>5.098242e+07</td>\n",
       "      <td>-0.000979</td>\n",
       "      <td>0.005182</td>\n",
       "      <td>29.0</td>\n",
       "    </tr>\n",
       "    <tr>\n",
       "      <th>4748</th>\n",
       "      <td>7.083370e+17</td>\n",
       "      <td>0.000000</td>\n",
       "      <td>0.000000</td>\n",
       "      <td>37.0</td>\n",
       "    </tr>\n",
       "    <tr>\n",
       "      <th>5041</th>\n",
       "      <td>7.731845e+17</td>\n",
       "      <td>0.016069</td>\n",
       "      <td>0.057947</td>\n",
       "      <td>28.0</td>\n",
       "    </tr>\n",
       "    <tr>\n",
       "      <th>1849</th>\n",
       "      <td>3.177788e+07</td>\n",
       "      <td>-0.001999</td>\n",
       "      <td>0.010385</td>\n",
       "      <td>28.0</td>\n",
       "    </tr>\n",
       "    <tr>\n",
       "      <th>1283</th>\n",
       "      <td>2.280319e+07</td>\n",
       "      <td>0.000000</td>\n",
       "      <td>0.000000</td>\n",
       "      <td>22.0</td>\n",
       "    </tr>\n",
       "  </tbody>\n",
       "</table>\n",
       "</div>"
      ],
      "text/plain": [
       "                id  mean_sentiment  std_sentiment  extraction_count\n",
       "3064  5.098242e+07       -0.000979       0.005182              29.0\n",
       "4748  7.083370e+17        0.000000       0.000000              37.0\n",
       "5041  7.731845e+17        0.016069       0.057947              28.0\n",
       "1849  3.177788e+07       -0.001999       0.010385              28.0\n",
       "1283  2.280319e+07        0.000000       0.000000              22.0"
      ]
     },
     "execution_count": 8,
     "metadata": {},
     "output_type": "execute_result"
    }
   ],
   "source": [
    "data.sample(5)"
   ]
  },
  {
   "cell_type": "code",
   "execution_count": 9,
   "metadata": {},
   "outputs": [
    {
     "data": {
      "text/html": [
       "<div>\n",
       "<style scoped>\n",
       "    .dataframe tbody tr th:only-of-type {\n",
       "        vertical-align: middle;\n",
       "    }\n",
       "\n",
       "    .dataframe tbody tr th {\n",
       "        vertical-align: top;\n",
       "    }\n",
       "\n",
       "    .dataframe thead th {\n",
       "        text-align: right;\n",
       "    }\n",
       "</style>\n",
       "<table border=\"1\" class=\"dataframe\">\n",
       "  <thead>\n",
       "    <tr style=\"text-align: right;\">\n",
       "      <th></th>\n",
       "      <th>id</th>\n",
       "      <th>mean_sentiment</th>\n",
       "      <th>std_sentiment</th>\n",
       "      <th>extraction_count</th>\n",
       "    </tr>\n",
       "  </thead>\n",
       "  <tbody>\n",
       "    <tr>\n",
       "      <th>count</th>\n",
       "      <td>5.126000e+03</td>\n",
       "      <td>5126.000000</td>\n",
       "      <td>5126.000000</td>\n",
       "      <td>5126.000000</td>\n",
       "    </tr>\n",
       "    <tr>\n",
       "      <th>mean</th>\n",
       "      <td>2.104933e+17</td>\n",
       "      <td>0.000508</td>\n",
       "      <td>0.009166</td>\n",
       "      <td>36.997269</td>\n",
       "    </tr>\n",
       "    <tr>\n",
       "      <th>std</th>\n",
       "      <td>3.111559e+17</td>\n",
       "      <td>0.003506</td>\n",
       "      <td>0.016253</td>\n",
       "      <td>14.291379</td>\n",
       "    </tr>\n",
       "    <tr>\n",
       "      <th>min</th>\n",
       "      <td>2.428800e+04</td>\n",
       "      <td>-0.024214</td>\n",
       "      <td>0.000000</td>\n",
       "      <td>3.000000</td>\n",
       "    </tr>\n",
       "    <tr>\n",
       "      <th>25%</th>\n",
       "      <td>2.186357e+07</td>\n",
       "      <td>-0.000541</td>\n",
       "      <td>0.000000</td>\n",
       "      <td>26.000000</td>\n",
       "    </tr>\n",
       "    <tr>\n",
       "      <th>50%</th>\n",
       "      <td>4.128565e+07</td>\n",
       "      <td>0.000000</td>\n",
       "      <td>0.000000</td>\n",
       "      <td>36.000000</td>\n",
       "    </tr>\n",
       "    <tr>\n",
       "      <th>75%</th>\n",
       "      <td>6.252139e+17</td>\n",
       "      <td>0.000000</td>\n",
       "      <td>0.012170</td>\n",
       "      <td>46.750000</td>\n",
       "    </tr>\n",
       "    <tr>\n",
       "      <th>max</th>\n",
       "      <td>7.825218e+17</td>\n",
       "      <td>0.046885</td>\n",
       "      <td>0.159758</td>\n",
       "      <td>99.000000</td>\n",
       "    </tr>\n",
       "  </tbody>\n",
       "</table>\n",
       "</div>"
      ],
      "text/plain": [
       "                 id  mean_sentiment  std_sentiment  extraction_count\n",
       "count  5.126000e+03     5126.000000    5126.000000       5126.000000\n",
       "mean   2.104933e+17        0.000508       0.009166         36.997269\n",
       "std    3.111559e+17        0.003506       0.016253         14.291379\n",
       "min    2.428800e+04       -0.024214       0.000000          3.000000\n",
       "25%    2.186357e+07       -0.000541       0.000000         26.000000\n",
       "50%    4.128565e+07        0.000000       0.000000         36.000000\n",
       "75%    6.252139e+17        0.000000       0.012170         46.750000\n",
       "max    7.825218e+17        0.046885       0.159758         99.000000"
      ]
     },
     "execution_count": 9,
     "metadata": {},
     "output_type": "execute_result"
    }
   ],
   "source": [
    "data.describe()"
   ]
  },
  {
   "attachments": {},
   "cell_type": "markdown",
   "metadata": {},
   "source": [
    "Looking into associated scores of keywords..."
   ]
  },
  {
   "cell_type": "code",
   "execution_count": 10,
   "metadata": {},
   "outputs": [],
   "source": [
    "success = pd.read_csv('datasets/master_edinburgh.csv')[['id', 'success_score']]"
   ]
  },
  {
   "cell_type": "code",
   "execution_count": 19,
   "metadata": {},
   "outputs": [],
   "source": [
    "keywords = create_data.mean_keyword_scores(success, 'datasets/image_keywords_edinburgh.csv')\n",
    "\n",
    "# Sort the keywords by their associated scores.\n",
    "keywords = sorted(keywords.items(), key=lambda x:x[1], reverse=True)"
   ]
  },
  {
   "cell_type": "code",
   "execution_count": 22,
   "metadata": {},
   "outputs": [
    {
     "data": {
      "text/plain": [
       "[('Violin', 2.368272475224936),\n",
       " ('Bowling', 1.7261150335977298),\n",
       " ('Marching', 1.6372526419469364),\n",
       " ('Group Performance', 1.5722201930068291),\n",
       " ('Music Band', 1.5216288167990544)]"
      ]
     },
     "execution_count": 22,
     "metadata": {},
     "output_type": "execute_result"
    }
   ],
   "source": [
    "keywords[:5]"
   ]
  },
  {
   "attachments": {},
   "cell_type": "markdown",
   "metadata": {},
   "source": [
    "---\n",
    "\n",
    "# Updates to RQ2"
   ]
  },
  {
   "attachments": {},
   "cell_type": "markdown",
   "metadata": {},
   "source": [
    "---\n",
    "\n",
    "# Updates to RQ3"
   ]
  },
  {
   "attachments": {},
   "cell_type": "markdown",
   "metadata": {},
   "source": [
    "---\n",
    "\n",
    "# Miscellaneous Fun"
   ]
  },
  {
   "attachments": {},
   "cell_type": "markdown",
   "metadata": {},
   "source": [
    "## Data Preprocessing: Cleaning and Selecting"
   ]
  },
  {
   "cell_type": "code",
   "execution_count": 100,
   "metadata": {},
   "outputs": [
    {
     "name": "stdout",
     "output_type": "stream",
     "text": [
      "Pre-existing master data file found (no new data created).\n"
     ]
    }
   ],
   "source": [
    "# Create master data for Edinburgh (if not created already).\n",
    "if not Path('datasets/master_edinburgh.csv').is_file():\n",
    "    create_data.city_data_generation('edinburgh', 'datasets', datetime(2022, 12, 16), True)\n",
    "    print('Master data file generated.')\n",
    "\n",
    "else:\n",
    "    print('Pre-existing master data file found (no new data created).')\n",
    "\n",
    "# Note: This takes around 3 minutes on my laptop for ~7800 listings and ~500000 reviews (Edinburgh)."
   ]
  },
  {
   "cell_type": "code",
   "execution_count": 101,
   "metadata": {},
   "outputs": [
    {
     "data": {
      "text/html": [
       "<div>\n",
       "<style scoped>\n",
       "    .dataframe tbody tr th:only-of-type {\n",
       "        vertical-align: middle;\n",
       "    }\n",
       "\n",
       "    .dataframe tbody tr th {\n",
       "        vertical-align: top;\n",
       "    }\n",
       "\n",
       "    .dataframe thead th {\n",
       "        text-align: right;\n",
       "    }\n",
       "</style>\n",
       "<table border=\"1\" class=\"dataframe\">\n",
       "  <thead>\n",
       "    <tr style=\"text-align: right;\">\n",
       "      <th></th>\n",
       "      <th>id</th>\n",
       "      <th>host_id</th>\n",
       "      <th>host_since</th>\n",
       "      <th>host_response_time</th>\n",
       "      <th>host_response_rate</th>\n",
       "      <th>host_acceptance_rate</th>\n",
       "      <th>host_is_superhost</th>\n",
       "      <th>host_neighbourhood</th>\n",
       "      <th>host_listings_count</th>\n",
       "      <th>host_total_listings_count</th>\n",
       "      <th>...</th>\n",
       "      <th>neighborhood_overview_keywords</th>\n",
       "      <th>host_about_polarity</th>\n",
       "      <th>host_about_subjectivity</th>\n",
       "      <th>host_about_keywords</th>\n",
       "      <th>images_keywords</th>\n",
       "      <th>images_confidences</th>\n",
       "      <th>log_price</th>\n",
       "      <th>rental_probability</th>\n",
       "      <th>weighted_average_sentiment</th>\n",
       "      <th>success_score</th>\n",
       "    </tr>\n",
       "  </thead>\n",
       "  <tbody>\n",
       "    <tr>\n",
       "      <th>0</th>\n",
       "      <td>15420</td>\n",
       "      <td>60423</td>\n",
       "      <td>2009-12-06</td>\n",
       "      <td>within a few hours</td>\n",
       "      <td>100%</td>\n",
       "      <td>96%</td>\n",
       "      <td>t</td>\n",
       "      <td>NaN</td>\n",
       "      <td>3</td>\n",
       "      <td>6</td>\n",
       "      <td>...</td>\n",
       "      <td>[['own'], ['lovely'], ['more'], ['new'], ['his...</td>\n",
       "      <td>-0.050000</td>\n",
       "      <td>0.850000</td>\n",
       "      <td>[['passionate']]</td>\n",
       "      <td>NaN</td>\n",
       "      <td>NaN</td>\n",
       "      <td>4.736198</td>\n",
       "      <td>0.833333</td>\n",
       "      <td>0.416151</td>\n",
       "      <td>1.642478</td>\n",
       "    </tr>\n",
       "    <tr>\n",
       "      <th>1</th>\n",
       "      <td>707097</td>\n",
       "      <td>3092851</td>\n",
       "      <td>2012-07-29</td>\n",
       "      <td>within a day</td>\n",
       "      <td>50%</td>\n",
       "      <td>84%</td>\n",
       "      <td>f</td>\n",
       "      <td>Old Town</td>\n",
       "      <td>9</td>\n",
       "      <td>16</td>\n",
       "      <td>...</td>\n",
       "      <td>[['perfect'], ['short']]</td>\n",
       "      <td>0.700000</td>\n",
       "      <td>0.550000</td>\n",
       "      <td>[['best'], ['comfortable']]</td>\n",
       "      <td>['Couch', 'Furniture', 'Indoors', 'Interior De...</td>\n",
       "      <td>[99.99188232421875, 56.51210403442383, 99.9908...</td>\n",
       "      <td>6.393591</td>\n",
       "      <td>1.000000</td>\n",
       "      <td>0.221078</td>\n",
       "      <td>1.413482</td>\n",
       "    </tr>\n",
       "    <tr>\n",
       "      <th>2</th>\n",
       "      <td>728199</td>\n",
       "      <td>3776412</td>\n",
       "      <td>2012-10-06</td>\n",
       "      <td>within an hour</td>\n",
       "      <td>100%</td>\n",
       "      <td>95%</td>\n",
       "      <td>t</td>\n",
       "      <td>NaN</td>\n",
       "      <td>1</td>\n",
       "      <td>2</td>\n",
       "      <td>...</td>\n",
       "      <td>[['excellent'], ['excellent', '!'], ['great'],...</td>\n",
       "      <td>0.539323</td>\n",
       "      <td>0.625000</td>\n",
       "      <td>[['perfectly', '!'], ['excellent'], ['great'],...</td>\n",
       "      <td>['Indoors', 'Interior Design', 'Wood', 'Hardwo...</td>\n",
       "      <td>[99.99758911132812, 99.99758911132812, 100.0, ...</td>\n",
       "      <td>4.094345</td>\n",
       "      <td>0.257230</td>\n",
       "      <td>0.378266</td>\n",
       "      <td>0.398385</td>\n",
       "    </tr>\n",
       "    <tr>\n",
       "      <th>3</th>\n",
       "      <td>732008</td>\n",
       "      <td>3810279</td>\n",
       "      <td>2012-10-09</td>\n",
       "      <td>within an hour</td>\n",
       "      <td>100%</td>\n",
       "      <td>99%</td>\n",
       "      <td>f</td>\n",
       "      <td>Haymarket</td>\n",
       "      <td>6</td>\n",
       "      <td>9</td>\n",
       "      <td>...</td>\n",
       "      <td>NaN</td>\n",
       "      <td>0.000000</td>\n",
       "      <td>0.000000</td>\n",
       "      <td>NaN</td>\n",
       "      <td>['Pool', 'Water', 'Architecture', 'Building', ...</td>\n",
       "      <td>[99.9551010131836, 99.9551010131836, 99.828170...</td>\n",
       "      <td>5.087596</td>\n",
       "      <td>0.446347</td>\n",
       "      <td>0.442620</td>\n",
       "      <td>1.005116</td>\n",
       "    </tr>\n",
       "    <tr>\n",
       "      <th>4</th>\n",
       "      <td>744710</td>\n",
       "      <td>3737047</td>\n",
       "      <td>2012-10-02</td>\n",
       "      <td>within an hour</td>\n",
       "      <td>100%</td>\n",
       "      <td>100%</td>\n",
       "      <td>t</td>\n",
       "      <td>New Town</td>\n",
       "      <td>1</td>\n",
       "      <td>1</td>\n",
       "      <td>...</td>\n",
       "      <td>[['many'], ['very', 'peaceful'], ['central']]</td>\n",
       "      <td>0.422727</td>\n",
       "      <td>0.613258</td>\n",
       "      <td>[['great'], ['own'], ['able'], ['love'], ['new']]</td>\n",
       "      <td>NaN</td>\n",
       "      <td>NaN</td>\n",
       "      <td>4.927254</td>\n",
       "      <td>0.053272</td>\n",
       "      <td>0.421208</td>\n",
       "      <td>0.110562</td>\n",
       "    </tr>\n",
       "    <tr>\n",
       "      <th>...</th>\n",
       "      <td>...</td>\n",
       "      <td>...</td>\n",
       "      <td>...</td>\n",
       "      <td>...</td>\n",
       "      <td>...</td>\n",
       "      <td>...</td>\n",
       "      <td>...</td>\n",
       "      <td>...</td>\n",
       "      <td>...</td>\n",
       "      <td>...</td>\n",
       "      <td>...</td>\n",
       "      <td>...</td>\n",
       "      <td>...</td>\n",
       "      <td>...</td>\n",
       "      <td>...</td>\n",
       "      <td>...</td>\n",
       "      <td>...</td>\n",
       "      <td>...</td>\n",
       "      <td>...</td>\n",
       "      <td>...</td>\n",
       "      <td>...</td>\n",
       "    </tr>\n",
       "    <tr>\n",
       "      <th>7384</th>\n",
       "      <td>362653</td>\n",
       "      <td>1775021</td>\n",
       "      <td>2012-02-19</td>\n",
       "      <td>within a few hours</td>\n",
       "      <td>100%</td>\n",
       "      <td>100%</td>\n",
       "      <td>f</td>\n",
       "      <td>Cannonmills</td>\n",
       "      <td>6</td>\n",
       "      <td>7</td>\n",
       "      <td>...</td>\n",
       "      <td>NaN</td>\n",
       "      <td>0.450000</td>\n",
       "      <td>0.601852</td>\n",
       "      <td>[['happy'], ['welcome'], ['own'], ['own'], ['m...</td>\n",
       "      <td>NaN</td>\n",
       "      <td>NaN</td>\n",
       "      <td>4.553877</td>\n",
       "      <td>0.000000</td>\n",
       "      <td>0.332089</td>\n",
       "      <td>0.000000</td>\n",
       "    </tr>\n",
       "    <tr>\n",
       "      <th>7385</th>\n",
       "      <td>363642</td>\n",
       "      <td>1837147</td>\n",
       "      <td>2012-03-01</td>\n",
       "      <td>within an hour</td>\n",
       "      <td>100%</td>\n",
       "      <td>25%</td>\n",
       "      <td>f</td>\n",
       "      <td>NaN</td>\n",
       "      <td>1</td>\n",
       "      <td>2</td>\n",
       "      <td>...</td>\n",
       "      <td>[['very', 'easy'], ['free'], ['quick'], ['gree...</td>\n",
       "      <td>0.342700</td>\n",
       "      <td>0.617080</td>\n",
       "      <td>[['delicious'], ['own'], ['own'], ['love'], ['...</td>\n",
       "      <td>NaN</td>\n",
       "      <td>NaN</td>\n",
       "      <td>3.688879</td>\n",
       "      <td>0.000000</td>\n",
       "      <td>0.394785</td>\n",
       "      <td>0.000000</td>\n",
       "    </tr>\n",
       "    <tr>\n",
       "      <th>7386</th>\n",
       "      <td>376937</td>\n",
       "      <td>1775021</td>\n",
       "      <td>2012-02-19</td>\n",
       "      <td>within a few hours</td>\n",
       "      <td>100%</td>\n",
       "      <td>100%</td>\n",
       "      <td>f</td>\n",
       "      <td>Cannonmills</td>\n",
       "      <td>6</td>\n",
       "      <td>7</td>\n",
       "      <td>...</td>\n",
       "      <td>NaN</td>\n",
       "      <td>0.450000</td>\n",
       "      <td>0.601852</td>\n",
       "      <td>[['happy'], ['welcome'], ['own'], ['own'], ['m...</td>\n",
       "      <td>NaN</td>\n",
       "      <td>NaN</td>\n",
       "      <td>4.442651</td>\n",
       "      <td>0.000000</td>\n",
       "      <td>0.341248</td>\n",
       "      <td>0.000000</td>\n",
       "    </tr>\n",
       "    <tr>\n",
       "      <th>7387</th>\n",
       "      <td>388297</td>\n",
       "      <td>1942840</td>\n",
       "      <td>2012-03-17</td>\n",
       "      <td>within an hour</td>\n",
       "      <td>100%</td>\n",
       "      <td>97%</td>\n",
       "      <td>f</td>\n",
       "      <td>Leith</td>\n",
       "      <td>3</td>\n",
       "      <td>4</td>\n",
       "      <td>...</td>\n",
       "      <td>NaN</td>\n",
       "      <td>0.241604</td>\n",
       "      <td>0.464815</td>\n",
       "      <td>[['best'], ['great'], ['love'], ['enjoy', '!']...</td>\n",
       "      <td>NaN</td>\n",
       "      <td>NaN</td>\n",
       "      <td>5.442418</td>\n",
       "      <td>0.093607</td>\n",
       "      <td>0.491528</td>\n",
       "      <td>0.250409</td>\n",
       "    </tr>\n",
       "    <tr>\n",
       "      <th>7388</th>\n",
       "      <td>389318</td>\n",
       "      <td>1947854</td>\n",
       "      <td>2012-03-18</td>\n",
       "      <td>NaN</td>\n",
       "      <td>NaN</td>\n",
       "      <td>0%</td>\n",
       "      <td>f</td>\n",
       "      <td>Southside</td>\n",
       "      <td>1</td>\n",
       "      <td>1</td>\n",
       "      <td>...</td>\n",
       "      <td>[['excellent'], ['vibrant'], ['local']]</td>\n",
       "      <td>0.395455</td>\n",
       "      <td>0.559091</td>\n",
       "      <td>[['wonderful'], ['love'], ['really', 'enjoy'],...</td>\n",
       "      <td>['Indoors', 'Interior Design', 'Lamp', 'Furnit...</td>\n",
       "      <td>[99.8916015625, 80.52789306640625, 99.40480041...</td>\n",
       "      <td>3.784190</td>\n",
       "      <td>0.000000</td>\n",
       "      <td>0.388842</td>\n",
       "      <td>0.000000</td>\n",
       "    </tr>\n",
       "  </tbody>\n",
       "</table>\n",
       "<p>7389 rows × 77 columns</p>\n",
       "</div>"
      ],
      "text/plain": [
       "          id  host_id  host_since  host_response_time host_response_rate  \\\n",
       "0      15420    60423  2009-12-06  within a few hours               100%   \n",
       "1     707097  3092851  2012-07-29        within a day                50%   \n",
       "2     728199  3776412  2012-10-06      within an hour               100%   \n",
       "3     732008  3810279  2012-10-09      within an hour               100%   \n",
       "4     744710  3737047  2012-10-02      within an hour               100%   \n",
       "...      ...      ...         ...                 ...                ...   \n",
       "7384  362653  1775021  2012-02-19  within a few hours               100%   \n",
       "7385  363642  1837147  2012-03-01      within an hour               100%   \n",
       "7386  376937  1775021  2012-02-19  within a few hours               100%   \n",
       "7387  388297  1942840  2012-03-17      within an hour               100%   \n",
       "7388  389318  1947854  2012-03-18                 NaN                NaN   \n",
       "\n",
       "     host_acceptance_rate host_is_superhost host_neighbourhood  \\\n",
       "0                     96%                 t                NaN   \n",
       "1                     84%                 f           Old Town   \n",
       "2                     95%                 t                NaN   \n",
       "3                     99%                 f          Haymarket   \n",
       "4                    100%                 t           New Town   \n",
       "...                   ...               ...                ...   \n",
       "7384                 100%                 f        Cannonmills   \n",
       "7385                  25%                 f                NaN   \n",
       "7386                 100%                 f        Cannonmills   \n",
       "7387                  97%                 f              Leith   \n",
       "7388                   0%                 f          Southside   \n",
       "\n",
       "      host_listings_count  host_total_listings_count  ...  \\\n",
       "0                       3                          6  ...   \n",
       "1                       9                         16  ...   \n",
       "2                       1                          2  ...   \n",
       "3                       6                          9  ...   \n",
       "4                       1                          1  ...   \n",
       "...                   ...                        ...  ...   \n",
       "7384                    6                          7  ...   \n",
       "7385                    1                          2  ...   \n",
       "7386                    6                          7  ...   \n",
       "7387                    3                          4  ...   \n",
       "7388                    1                          1  ...   \n",
       "\n",
       "                         neighborhood_overview_keywords host_about_polarity  \\\n",
       "0     [['own'], ['lovely'], ['more'], ['new'], ['his...           -0.050000   \n",
       "1                              [['perfect'], ['short']]            0.700000   \n",
       "2     [['excellent'], ['excellent', '!'], ['great'],...            0.539323   \n",
       "3                                                   NaN            0.000000   \n",
       "4         [['many'], ['very', 'peaceful'], ['central']]            0.422727   \n",
       "...                                                 ...                 ...   \n",
       "7384                                                NaN            0.450000   \n",
       "7385  [['very', 'easy'], ['free'], ['quick'], ['gree...            0.342700   \n",
       "7386                                                NaN            0.450000   \n",
       "7387                                                NaN            0.241604   \n",
       "7388            [['excellent'], ['vibrant'], ['local']]            0.395455   \n",
       "\n",
       "     host_about_subjectivity  \\\n",
       "0                   0.850000   \n",
       "1                   0.550000   \n",
       "2                   0.625000   \n",
       "3                   0.000000   \n",
       "4                   0.613258   \n",
       "...                      ...   \n",
       "7384                0.601852   \n",
       "7385                0.617080   \n",
       "7386                0.601852   \n",
       "7387                0.464815   \n",
       "7388                0.559091   \n",
       "\n",
       "                                    host_about_keywords  \\\n",
       "0                                      [['passionate']]   \n",
       "1                           [['best'], ['comfortable']]   \n",
       "2     [['perfectly', '!'], ['excellent'], ['great'],...   \n",
       "3                                                   NaN   \n",
       "4     [['great'], ['own'], ['able'], ['love'], ['new']]   \n",
       "...                                                 ...   \n",
       "7384  [['happy'], ['welcome'], ['own'], ['own'], ['m...   \n",
       "7385  [['delicious'], ['own'], ['own'], ['love'], ['...   \n",
       "7386  [['happy'], ['welcome'], ['own'], ['own'], ['m...   \n",
       "7387  [['best'], ['great'], ['love'], ['enjoy', '!']...   \n",
       "7388  [['wonderful'], ['love'], ['really', 'enjoy'],...   \n",
       "\n",
       "                                        images_keywords  \\\n",
       "0                                                   NaN   \n",
       "1     ['Couch', 'Furniture', 'Indoors', 'Interior De...   \n",
       "2     ['Indoors', 'Interior Design', 'Wood', 'Hardwo...   \n",
       "3     ['Pool', 'Water', 'Architecture', 'Building', ...   \n",
       "4                                                   NaN   \n",
       "...                                                 ...   \n",
       "7384                                                NaN   \n",
       "7385                                                NaN   \n",
       "7386                                                NaN   \n",
       "7387                                                NaN   \n",
       "7388  ['Indoors', 'Interior Design', 'Lamp', 'Furnit...   \n",
       "\n",
       "                                     images_confidences  log_price  \\\n",
       "0                                                   NaN   4.736198   \n",
       "1     [99.99188232421875, 56.51210403442383, 99.9908...   6.393591   \n",
       "2     [99.99758911132812, 99.99758911132812, 100.0, ...   4.094345   \n",
       "3     [99.9551010131836, 99.9551010131836, 99.828170...   5.087596   \n",
       "4                                                   NaN   4.927254   \n",
       "...                                                 ...        ...   \n",
       "7384                                                NaN   4.553877   \n",
       "7385                                                NaN   3.688879   \n",
       "7386                                                NaN   4.442651   \n",
       "7387                                                NaN   5.442418   \n",
       "7388  [99.8916015625, 80.52789306640625, 99.40480041...   3.784190   \n",
       "\n",
       "      rental_probability weighted_average_sentiment success_score  \n",
       "0               0.833333                   0.416151      1.642478  \n",
       "1               1.000000                   0.221078      1.413482  \n",
       "2               0.257230                   0.378266      0.398385  \n",
       "3               0.446347                   0.442620      1.005116  \n",
       "4               0.053272                   0.421208      0.110562  \n",
       "...                  ...                        ...           ...  \n",
       "7384            0.000000                   0.332089      0.000000  \n",
       "7385            0.000000                   0.394785      0.000000  \n",
       "7386            0.000000                   0.341248      0.000000  \n",
       "7387            0.093607                   0.491528      0.250409  \n",
       "7388            0.000000                   0.388842      0.000000  \n",
       "\n",
       "[7389 rows x 77 columns]"
      ]
     },
     "execution_count": 101,
     "metadata": {},
     "output_type": "execute_result"
    }
   ],
   "source": [
    "# Get the master data.\n",
    "master_data = pd.read_csv('datasets/master_edinburgh.csv').iloc[:,2:]\n",
    "master_data"
   ]
  },
  {
   "cell_type": "code",
   "execution_count": 102,
   "metadata": {},
   "outputs": [],
   "source": [
    "# We will be predicting success\n",
    "# So, it would only be fair for us to remove all data used to generate success scores.\n",
    "master_data.drop(columns=[\n",
    "    'price',\n",
    "    'minimum_nights_avg_ntm', \n",
    "    'number_of_reviews_ltm',\n",
    "    'log_price', \n",
    "    'rental_probability',\n",
    "    'weighted_average_sentiment'\n",
    "], inplace=True, axis=1)"
   ]
  },
  {
   "cell_type": "code",
   "execution_count": 103,
   "metadata": {},
   "outputs": [
    {
     "data": {
      "text/plain": [
       "bathrooms                       7389\n",
       "neighbourhood_group_cleansed    7389\n",
       "license                         7374\n",
       "host_neighbourhood              4382\n",
       "host_about_keywords             3344\n",
       "                                ... \n",
       "availability_30                    0\n",
       "host_id                            0\n",
       "availability_90                    0\n",
       "availability_365                   0\n",
       "availability_60                    0\n",
       "Length: 71, dtype: int64"
      ]
     },
     "execution_count": 103,
     "metadata": {},
     "output_type": "execute_result"
    }
   ],
   "source": [
    "# Count the number of missing values in each feature.\n",
    "missing_values = master_data.isna().sum().sort_values(ascending=False)\n",
    "missing_values"
   ]
  },
  {
   "cell_type": "code",
   "execution_count": 104,
   "metadata": {},
   "outputs": [
    {
     "name": "stdout",
     "output_type": "stream",
     "text": [
      "dropped: Index(['bathrooms', 'neighbourhood_group_cleansed', 'license',\n",
      "       'host_neighbourhood'],\n",
      "      dtype='object')\n"
     ]
    }
   ],
   "source": [
    "# Drop features with majority missing values.\n",
    "threshold = master_data.shape[0] // 2\n",
    "master_data.drop(columns=missing_values[missing_values > threshold].index, inplace=True, axis=1)\n",
    "print('dropped:', missing_values[missing_values > threshold].index)"
   ]
  },
  {
   "cell_type": "code",
   "execution_count": 105,
   "metadata": {},
   "outputs": [
    {
     "name": "stdout",
     "output_type": "stream",
     "text": [
      "Number of dropped rows (no success score): 670\n"
     ]
    }
   ],
   "source": [
    "# Drop rows with missing a succuess score.\n",
    "print('Number of dropped rows (no success score):', len(master_data[master_data.success_score.isna()]))\n",
    "master_data = master_data[master_data.success_score.notna()]"
   ]
  },
  {
   "cell_type": "code",
   "execution_count": 106,
   "metadata": {},
   "outputs": [
    {
     "name": "stderr",
     "output_type": "stream",
     "text": [
      "C:\\Users\\bwpri\\AppData\\Local\\Temp\\ipykernel_10572\\2900092001.py:2: SettingWithCopyWarning: \n",
      "A value is trying to be set on a copy of a slice from a DataFrame\n",
      "\n",
      "See the caveats in the documentation: https://pandas.pydata.org/pandas-docs/stable/user_guide/indexing.html#returning-a-view-versus-a-copy\n",
      "  master_data.drop(columns=[\n",
      "C:\\Users\\bwpri\\AppData\\Local\\Temp\\ipykernel_10572\\2900092001.py:27: SettingWithCopyWarning: \n",
      "A value is trying to be set on a copy of a slice from a DataFrame\n",
      "\n",
      "See the caveats in the documentation: https://pandas.pydata.org/pandas-docs/stable/user_guide/indexing.html#returning-a-view-versus-a-copy\n",
      "  master_data.drop(columns=[\n"
     ]
    }
   ],
   "source": [
    "# Remove unhelpful features (for prediction of success).\n",
    "master_data.drop(columns=[\n",
    "    'host_id',\n",
    "    'neighbourhood',\n",
    "    'neighbourhood_cleansed',\n",
    "    'latitude',\n",
    "    'longitude',\n",
    "    'property_type',\n",
    "    'bathrooms_text',\n",
    "    'amenities',\n",
    "    'minimum_minimum_nights', \n",
    "    'maximum_minimum_nights',\n",
    "    'minimum_maximum_nights', \n",
    "    'maximum_maximum_nights',\n",
    "    'maximum_nights_avg_ntm',\n",
    "    'calculated_host_listings_count',\n",
    "    'calculated_host_listings_count_entire_homes',\n",
    "    'calculated_host_listings_count_private_rooms',\n",
    "    'calculated_host_listings_count_shared_rooms',\n",
    "    'title_keywords',\n",
    "    'description_keywords', \n",
    "    'neighborhood_overview_keywords',\n",
    "    'host_about_keywords'\n",
    "], inplace=True, axis=1) \n",
    "\n",
    "# Remove features that almost certinaly don't add anything (e.g. almost all the same value).\n",
    "master_data.drop(columns=[\n",
    "    'has_availability',\n",
    "    'host_has_profile_pic'\n",
    "], inplace=True, axis=1)"
   ]
  },
  {
   "cell_type": "code",
   "execution_count": 107,
   "metadata": {},
   "outputs": [],
   "source": [
    "# Helper function for converting dates to days since.\n",
    "def elapsed_days(from_date_as_string, to_date=datetime(2022, 12, 16)):\n",
    "    from_date = datetime.strptime(from_date_as_string, '%Y-%m-%d')\n",
    "    return max(0, (to_date - from_date).days)"
   ]
  },
  {
   "cell_type": "code",
   "execution_count": 108,
   "metadata": {},
   "outputs": [
    {
     "name": "stderr",
     "output_type": "stream",
     "text": [
      "C:\\Users\\bwpri\\AppData\\Local\\Temp\\ipykernel_10572\\2791973381.py:3: SettingWithCopyWarning: \n",
      "A value is trying to be set on a copy of a slice from a DataFrame.\n",
      "Try using .loc[row_indexer,col_indexer] = value instead\n",
      "\n",
      "See the caveats in the documentation: https://pandas.pydata.org/pandas-docs/stable/user_guide/indexing.html#returning-a-view-versus-a-copy\n",
      "  master_data.host_since = master_data.host_since.apply(elapsed_days)\n",
      "C:\\Users\\bwpri\\AppData\\Local\\Temp\\ipykernel_10572\\2791973381.py:5: SettingWithCopyWarning: \n",
      "A value is trying to be set on a copy of a slice from a DataFrame.\n",
      "Try using .loc[row_indexer,col_indexer] = value instead\n",
      "\n",
      "See the caveats in the documentation: https://pandas.pydata.org/pandas-docs/stable/user_guide/indexing.html#returning-a-view-versus-a-copy\n",
      "  master_data.host_response_rate = master_data.host_response_rate.apply(\n",
      "C:\\Users\\bwpri\\AppData\\Local\\Temp\\ipykernel_10572\\2791973381.py:10: SettingWithCopyWarning: \n",
      "A value is trying to be set on a copy of a slice from a DataFrame.\n",
      "Try using .loc[row_indexer,col_indexer] = value instead\n",
      "\n",
      "See the caveats in the documentation: https://pandas.pydata.org/pandas-docs/stable/user_guide/indexing.html#returning-a-view-versus-a-copy\n",
      "  master_data.host_acceptance_rate = master_data.host_acceptance_rate.apply(\n",
      "C:\\Users\\bwpri\\AppData\\Local\\Temp\\ipykernel_10572\\2791973381.py:15: SettingWithCopyWarning: \n",
      "A value is trying to be set on a copy of a slice from a DataFrame.\n",
      "Try using .loc[row_indexer,col_indexer] = value instead\n",
      "\n",
      "See the caveats in the documentation: https://pandas.pydata.org/pandas-docs/stable/user_guide/indexing.html#returning-a-view-versus-a-copy\n",
      "  master_data.host_verifications = master_data.host_verifications.apply(\n",
      "C:\\Users\\bwpri\\AppData\\Local\\Temp\\ipykernel_10572\\2791973381.py:19: SettingWithCopyWarning: \n",
      "A value is trying to be set on a copy of a slice from a DataFrame.\n",
      "Try using .loc[row_indexer,col_indexer] = value instead\n",
      "\n",
      "See the caveats in the documentation: https://pandas.pydata.org/pandas-docs/stable/user_guide/indexing.html#returning-a-view-versus-a-copy\n",
      "  master_data.first_review = master_data.first_review.apply(\n",
      "C:\\Users\\bwpri\\AppData\\Local\\Temp\\ipykernel_10572\\2791973381.py:24: SettingWithCopyWarning: \n",
      "A value is trying to be set on a copy of a slice from a DataFrame.\n",
      "Try using .loc[row_indexer,col_indexer] = value instead\n",
      "\n",
      "See the caveats in the documentation: https://pandas.pydata.org/pandas-docs/stable/user_guide/indexing.html#returning-a-view-versus-a-copy\n",
      "  master_data.last_review = master_data.last_review.apply(\n"
     ]
    }
   ],
   "source": [
    "# Convert pseudonumeric types (e.g. dates) to numeric...\n",
    "\n",
    "master_data.host_since = master_data.host_since.apply(elapsed_days)\n",
    "\n",
    "master_data.host_response_rate = master_data.host_response_rate.apply(\n",
    "    lambda x : float(x[:-1]) if not pd.isna(x) \n",
    "    else x\n",
    ")\n",
    "\n",
    "master_data.host_acceptance_rate = master_data.host_acceptance_rate.apply(\n",
    "    lambda x : float(x[:-1]) if not pd.isna(x) \n",
    "    else x\n",
    ")\n",
    "\n",
    "master_data.host_verifications = master_data.host_verifications.apply(\n",
    "    lambda x : len(x)\n",
    ")\n",
    "\n",
    "master_data.first_review = master_data.first_review.apply(\n",
    "    lambda x : elapsed_days(x) if not pd.isna(x)\n",
    "    else x\n",
    ")\n",
    "\n",
    "master_data.last_review = master_data.last_review.apply(\n",
    "    lambda x : elapsed_days(x) if not pd.isna(x)\n",
    "    else x\n",
    ")"
   ]
  },
  {
   "cell_type": "code",
   "execution_count": 109,
   "metadata": {},
   "outputs": [
    {
     "data": {
      "text/plain": [
       "host_about_polarity                   2678\n",
       "host_about_subjectivity               2678\n",
       "images_confidences                    2091\n",
       "images_keywords                       2091\n",
       "neighborhood_overview_subjectivity    1823\n",
       "neighborhood_overview_polarity        1823\n",
       "host_response_time                    1313\n",
       "host_response_rate                    1313\n",
       "host_acceptance_rate                   591\n",
       "bedrooms                               103\n",
       "beds                                    59\n",
       "description_subjectivity                52\n",
       "description_polarity                    52\n",
       "review_scores_value                     13\n",
       "review_scores_checkin                   13\n",
       "review_scores_communication             13\n",
       "review_scores_location                  13\n",
       "review_scores_cleanliness               13\n",
       "review_scores_accuracy                  13\n",
       "instant_bookable                         0\n",
       "reviews_per_month                        0\n",
       "title_polarity                           0\n",
       "title_subjectivity                       0\n",
       "id                                       0\n",
       "first_review                             0\n",
       "review_scores_rating                     0\n",
       "minimum_nights                           0\n",
       "host_is_superhost                        0\n",
       "host_listings_count                      0\n",
       "host_total_listings_count                0\n",
       "host_verifications                       0\n",
       "host_identity_verified                   0\n",
       "room_type                                0\n",
       "accommodates                             0\n",
       "maximum_nights                           0\n",
       "last_review                              0\n",
       "availability_30                          0\n",
       "availability_60                          0\n",
       "availability_90                          0\n",
       "availability_365                         0\n",
       "number_of_reviews                        0\n",
       "number_of_reviews_l30d                   0\n",
       "host_since                               0\n",
       "success_score                            0\n",
       "dtype: int64"
      ]
     },
     "execution_count": 109,
     "metadata": {},
     "output_type": "execute_result"
    }
   ],
   "source": [
    "# Another look at missing data.\n",
    "master_data.isna().sum().sort_values(ascending=False)"
   ]
  },
  {
   "cell_type": "code",
   "execution_count": 110,
   "metadata": {},
   "outputs": [
    {
     "name": "stderr",
     "output_type": "stream",
     "text": [
      "C:\\Users\\bwpri\\AppData\\Local\\Temp\\ipykernel_10572\\944384758.py:2: SettingWithCopyWarning: \n",
      "A value is trying to be set on a copy of a slice from a DataFrame.\n",
      "Try using .loc[row_indexer,col_indexer] = value instead\n",
      "\n",
      "See the caveats in the documentation: https://pandas.pydata.org/pandas-docs/stable/user_guide/indexing.html#returning-a-view-versus-a-copy\n",
      "  master_data.host_about_polarity = master_data.host_about_polarity.fillna(0)\n",
      "C:\\Users\\bwpri\\AppData\\Local\\Temp\\ipykernel_10572\\944384758.py:3: SettingWithCopyWarning: \n",
      "A value is trying to be set on a copy of a slice from a DataFrame.\n",
      "Try using .loc[row_indexer,col_indexer] = value instead\n",
      "\n",
      "See the caveats in the documentation: https://pandas.pydata.org/pandas-docs/stable/user_guide/indexing.html#returning-a-view-versus-a-copy\n",
      "  master_data.host_about_subjectivity = master_data.host_about_subjectivity.fillna(0)\n",
      "C:\\Users\\bwpri\\AppData\\Local\\Temp\\ipykernel_10572\\944384758.py:4: SettingWithCopyWarning: \n",
      "A value is trying to be set on a copy of a slice from a DataFrame.\n",
      "Try using .loc[row_indexer,col_indexer] = value instead\n",
      "\n",
      "See the caveats in the documentation: https://pandas.pydata.org/pandas-docs/stable/user_guide/indexing.html#returning-a-view-versus-a-copy\n",
      "  master_data.neighborhood_overview_polarity = master_data.neighborhood_overview_polarity.fillna(0)\n",
      "C:\\Users\\bwpri\\AppData\\Local\\Temp\\ipykernel_10572\\944384758.py:5: SettingWithCopyWarning: \n",
      "A value is trying to be set on a copy of a slice from a DataFrame.\n",
      "Try using .loc[row_indexer,col_indexer] = value instead\n",
      "\n",
      "See the caveats in the documentation: https://pandas.pydata.org/pandas-docs/stable/user_guide/indexing.html#returning-a-view-versus-a-copy\n",
      "  master_data.neighborhood_overview_subjectivity = master_data.neighborhood_overview_subjectivity.fillna(0)\n",
      "C:\\Users\\bwpri\\AppData\\Local\\Temp\\ipykernel_10572\\944384758.py:6: SettingWithCopyWarning: \n",
      "A value is trying to be set on a copy of a slice from a DataFrame.\n",
      "Try using .loc[row_indexer,col_indexer] = value instead\n",
      "\n",
      "See the caveats in the documentation: https://pandas.pydata.org/pandas-docs/stable/user_guide/indexing.html#returning-a-view-versus-a-copy\n",
      "  master_data.description_polarity = master_data.description_polarity.fillna(0)\n",
      "C:\\Users\\bwpri\\AppData\\Local\\Temp\\ipykernel_10572\\944384758.py:7: SettingWithCopyWarning: \n",
      "A value is trying to be set on a copy of a slice from a DataFrame.\n",
      "Try using .loc[row_indexer,col_indexer] = value instead\n",
      "\n",
      "See the caveats in the documentation: https://pandas.pydata.org/pandas-docs/stable/user_guide/indexing.html#returning-a-view-versus-a-copy\n",
      "  master_data.description_subjectivity = master_data.description_subjectivity.fillna(0)\n",
      "C:\\Users\\bwpri\\AppData\\Local\\Temp\\ipykernel_10572\\944384758.py:10: SettingWithCopyWarning: \n",
      "A value is trying to be set on a copy of a slice from a DataFrame.\n",
      "Try using .loc[row_indexer,col_indexer] = value instead\n",
      "\n",
      "See the caveats in the documentation: https://pandas.pydata.org/pandas-docs/stable/user_guide/indexing.html#returning-a-view-versus-a-copy\n",
      "  master_data.host_response_rate = master_data.host_response_rate.fillna(master_data.host_response_rate.mean())\n",
      "C:\\Users\\bwpri\\AppData\\Local\\Temp\\ipykernel_10572\\944384758.py:11: SettingWithCopyWarning: \n",
      "A value is trying to be set on a copy of a slice from a DataFrame.\n",
      "Try using .loc[row_indexer,col_indexer] = value instead\n",
      "\n",
      "See the caveats in the documentation: https://pandas.pydata.org/pandas-docs/stable/user_guide/indexing.html#returning-a-view-versus-a-copy\n",
      "  master_data.host_acceptance_rate = master_data.host_acceptance_rate.fillna(master_data.host_acceptance_rate.mean())\n",
      "C:\\Users\\bwpri\\AppData\\Local\\Temp\\ipykernel_10572\\944384758.py:14: SettingWithCopyWarning: \n",
      "A value is trying to be set on a copy of a slice from a DataFrame.\n",
      "Try using .loc[row_indexer,col_indexer] = value instead\n",
      "\n",
      "See the caveats in the documentation: https://pandas.pydata.org/pandas-docs/stable/user_guide/indexing.html#returning-a-view-versus-a-copy\n",
      "  master_data.host_response_time = master_data.host_response_time.fillna(master_data.host_response_time.mode().values[0])\n"
     ]
    }
   ],
   "source": [
    "# Replace missing polarity and subjectivity scores with 0 (i.e. neutral and factual).\n",
    "master_data.host_about_polarity = master_data.host_about_polarity.fillna(0)\n",
    "master_data.host_about_subjectivity = master_data.host_about_subjectivity.fillna(0)\n",
    "master_data.neighborhood_overview_polarity = master_data.neighborhood_overview_polarity.fillna(0)\n",
    "master_data.neighborhood_overview_subjectivity = master_data.neighborhood_overview_subjectivity.fillna(0)\n",
    "master_data.description_polarity = master_data.description_polarity.fillna(0)\n",
    "master_data.description_subjectivity = master_data.description_subjectivity.fillna(0)\n",
    "\n",
    "# Replace missing host_response_rate, host_acceptance_rate with mean values.\n",
    "master_data.host_response_rate = master_data.host_response_rate.fillna(master_data.host_response_rate.mean())\n",
    "master_data.host_acceptance_rate = master_data.host_acceptance_rate.fillna(master_data.host_acceptance_rate.mean()) \n",
    "\n",
    "# Replace missing host_response_time with mode values.\n",
    "master_data.host_response_time = master_data.host_response_time.fillna(master_data.host_response_time.mode().values[0])"
   ]
  },
  {
   "cell_type": "code",
   "execution_count": 111,
   "metadata": {},
   "outputs": [],
   "source": [
    "# Remove all rows with missing values still remaining.\n",
    "master_data = master_data.dropna()"
   ]
  },
  {
   "cell_type": "code",
   "execution_count": 113,
   "metadata": {},
   "outputs": [
    {
     "name": "stdout",
     "output_type": "stream",
     "text": [
      "minimum_nights                 21.987639\n",
      "host_total_listings_count      13.849192\n",
      "host_listings_count            12.079675\n",
      "beds                            4.765847\n",
      "last_review                     3.584716\n",
      "number_of_reviews_l30d          3.419912\n",
      "number_of_reviews               2.903261\n",
      "bedrooms                        1.947026\n",
      "success_score                   1.923548\n",
      "reviews_per_month               1.882003\n",
      "accommodates                    1.665009\n",
      "host_verifications              1.146217\n",
      "host_acceptance_rate           -3.418289\n",
      "review_scores_value            -4.787247\n",
      "review_scores_cleanliness      -4.813737\n",
      "review_scores_rating           -5.211000\n",
      "review_scores_location         -5.714130\n",
      "review_scores_accuracy         -6.161939\n",
      "review_scores_checkin          -6.204161\n",
      "host_response_rate             -6.703041\n",
      "review_scores_communication    -6.921178\n",
      "dtype: float64\n"
     ]
    },
    {
     "name": "stderr",
     "output_type": "stream",
     "text": [
      "C:\\Users\\bwpri\\AppData\\Local\\Temp\\ipykernel_10572\\3953525271.py:2: FutureWarning: The default value of numeric_only in DataFrame.skew is deprecated. In a future version, it will default to False. In addition, specifying 'numeric_only=None' is deprecated. Select only valid columns or specify the value of numeric_only to silence this warning.\n",
      "  skewness = master_data.skew().sort_values(ascending=False)\n"
     ]
    }
   ],
   "source": [
    "# Calculate the skewness of the features.\n",
    "skewness = master_data.skew().sort_values(ascending=False)\n",
    "print(skewness[abs(skewness) > 1])\n",
    "\n",
    "# Don't worry about skewness with the success scores or id.\n",
    "skewness.success_score = 0\n",
    "skewness.id = 0"
   ]
  },
  {
   "cell_type": "code",
   "execution_count": 114,
   "metadata": {},
   "outputs": [],
   "source": [
    "# Deal with positive skewness by performing a square root transformation.\n",
    "for skew_feature in skewness[skewness > 1.5].index:\n",
    "    master_data[skew_feature] = np.power(master_data[skew_feature], 1/2)\n",
    "\n",
    "# Deal with negative skewness by performing a square transformation.\n",
    "for skew_feature in skewness[skewness < -1.5].index:\n",
    "    master_data[skew_feature] = np.power(master_data[skew_feature], 2)"
   ]
  },
  {
   "cell_type": "code",
   "execution_count": 115,
   "metadata": {},
   "outputs": [
    {
     "name": "stdout",
     "output_type": "stream",
     "text": [
      "minimum_nights                 12.427903\n",
      "host_total_listings_count       6.118373\n",
      "host_listings_count             5.840698\n",
      "last_review                     2.146830\n",
      "success_score                   1.923548\n",
      "beds                            1.691415\n",
      "number_of_reviews               1.223847\n",
      "bedrooms                        1.211955\n",
      "host_verifications              1.146217\n",
      "host_acceptance_rate           -2.259816\n",
      "review_scores_value            -2.879453\n",
      "review_scores_cleanliness      -2.955166\n",
      "review_scores_rating           -3.158199\n",
      "review_scores_location         -3.337822\n",
      "review_scores_accuracy         -4.173582\n",
      "review_scores_checkin          -4.192822\n",
      "review_scores_communication    -4.433025\n",
      "host_response_rate             -4.820845\n",
      "dtype: float64\n"
     ]
    },
    {
     "name": "stderr",
     "output_type": "stream",
     "text": [
      "C:\\Users\\bwpri\\AppData\\Local\\Temp\\ipykernel_10572\\483220857.py:2: FutureWarning: The default value of numeric_only in DataFrame.skew is deprecated. In a future version, it will default to False. In addition, specifying 'numeric_only=None' is deprecated. Select only valid columns or specify the value of numeric_only to silence this warning.\n",
      "  skewness = master_data.skew().sort_values(ascending=False)\n"
     ]
    }
   ],
   "source": [
    "# Re-assess skewness.\n",
    "skewness = master_data.skew().sort_values(ascending=False)\n",
    "print(skewness[abs(skewness) > 1])\n",
    "\n",
    "# Don't worry about skewness with the success scores.\n",
    "skewness.success_score = 0\n",
    "skewness.id = 0"
   ]
  },
  {
   "cell_type": "code",
   "execution_count": 116,
   "metadata": {},
   "outputs": [],
   "source": [
    "# Deal with positive skewness AGAIN by performing a square root transformation AGAIN (i.e. fourth root).\n",
    "for skew_feature in skewness[skewness > 1.5].index:\n",
    "    master_data[skew_feature] = np.power(master_data[skew_feature], 1/2)\n",
    "\n",
    "# Deal with negative skewness AGAIN by performing a square transformation AGAIN (i.e. to power 4).\n",
    "for skew_feature in skewness[skewness < -1.5].index:\n",
    "    master_data[skew_feature] = np.power(master_data[skew_feature], 2)"
   ]
  },
  {
   "cell_type": "code",
   "execution_count": 117,
   "metadata": {},
   "outputs": [
    {
     "name": "stdout",
     "output_type": "stream",
     "text": [
      "minimum_nights                 6.542786\n",
      "host_total_listings_count      3.227918\n",
      "host_listings_count            3.074636\n",
      "success_score                  1.923548\n",
      "last_review                    1.312855\n",
      "number_of_reviews              1.223847\n",
      "bedrooms                       1.211955\n",
      "host_verifications             1.146217\n",
      "beds                           1.064982\n",
      "review_scores_value           -1.484792\n",
      "host_acceptance_rate          -1.504017\n",
      "review_scores_cleanliness     -1.701300\n",
      "review_scores_rating          -1.724619\n",
      "review_scores_location        -1.930659\n",
      "review_scores_accuracy        -2.541275\n",
      "review_scores_communication   -2.731764\n",
      "review_scores_checkin         -2.742524\n",
      "host_response_rate            -3.435799\n",
      "dtype: float64\n"
     ]
    },
    {
     "name": "stderr",
     "output_type": "stream",
     "text": [
      "C:\\Users\\bwpri\\AppData\\Local\\Temp\\ipykernel_10572\\1171700438.py:2: FutureWarning: The default value of numeric_only in DataFrame.skew is deprecated. In a future version, it will default to False. In addition, specifying 'numeric_only=None' is deprecated. Select only valid columns or specify the value of numeric_only to silence this warning.\n",
      "  skewness = master_data.skew().sort_values(ascending=False)\n"
     ]
    }
   ],
   "source": [
    "# Re-assess skewness.\n",
    "skewness = master_data.skew().sort_values(ascending=False)\n",
    "print(skewness[abs(skewness) > 1])\n",
    "\n",
    "# Don't worry about skewness with the success scores.\n",
    "skewness.success_score = 0"
   ]
  },
  {
   "cell_type": "code",
   "execution_count": 118,
   "metadata": {},
   "outputs": [],
   "source": [
    "# Convert categorical (e.g. boolean) types to numeric...\n",
    "\n",
    "master_data.host_response_time = master_data.host_response_time.map(\n",
    "    lambda x : {'within an hour' : 1, 'within a few hours' : 2, 'within a day' : 3, 'a few days or more' : 4}.get(x, 0)\n",
    ")\n",
    "\n",
    "master_data.host_is_superhost = master_data.host_is_superhost.map(\n",
    "    lambda x : {'t' : 1, 'f' : 0}.get(x, 0)\n",
    ")\n",
    "\n",
    "master_data.host_identity_verified = master_data.host_identity_verified.map(\n",
    "    lambda x : {'t' : 1, 'f' : 0}.get(x, 0)\n",
    ")\n",
    "\n",
    "master_data.room_type = master_data.room_type.map(\n",
    "    lambda x : {'Entire home/apt' : 1, 'Private room' : 2, 'Hotel room' : 3, 'Shared room' : 4}.get(x, 0)\n",
    ")\n",
    "\n",
    "master_data.instant_bookable = master_data.instant_bookable.map(\n",
    "    lambda x : {'t' : 1, 'f' : 0}.get(x, 0)\n",
    ")"
   ]
  },
  {
   "cell_type": "code",
   "execution_count": 119,
   "metadata": {},
   "outputs": [
    {
     "name": "stderr",
     "output_type": "stream",
     "text": [
      "C:\\Users\\bwpri\\AppData\\Local\\Temp\\ipykernel_10572\\2901484691.py:2: FutureWarning: The default value of numeric_only in DataFrame.corr is deprecated. In a future version, it will default to False. Select only valid columns or specify the value of numeric_only to silence this warning.\n",
      "  corr = master_data.corr()[['success_score']]\n"
     ]
    },
    {
     "data": {
      "text/plain": [
       "<AxesSubplot: >"
      ]
     },
     "execution_count": 119,
     "metadata": {},
     "output_type": "execute_result"
    },
    {
     "data": {
      "image/png": "[encoded data removed]",
      "text/plain": [
       "<Figure size 640x480 with 2 Axes>"
      ]
     },
     "metadata": {},
     "output_type": "display_data"
    }
   ],
   "source": [
    "# Show the correlations with success.\n",
    "corr = master_data.corr()[['success_score']]\n",
    "sns.heatmap(corr, annot=True, vmin=-1, vmax=1)"
   ]
  },
  {
   "attachments": {},
   "cell_type": "markdown",
   "metadata": {},
   "source": [
    "## Data Preprocessing: Creating New Features"
   ]
  },
  {
   "attachments": {},
   "cell_type": "markdown",
   "metadata": {},
   "source": [
    "From the mean scores of each image keyword, come up with an average scoring of the extracted keywords for each listing. That is, from the calculated success scores of each extracted image keywords, calcualted the perceived success in the images.\n",
    "\n",
    "We will weight this average using the confidence scores (e.g. if we are 87% confident in the keyword \"window\", and \"window\" has an average score of 1.0, then the contribution of \"window\" to the perceived image score of all listings it appears in is 1.0 * 0.87 = 0.87)."
   ]
  },
  {
   "cell_type": "code",
   "execution_count": 121,
   "metadata": {},
   "outputs": [],
   "source": [
    "# Calcualte the success of the image keywords.\n",
    "keyword_success = create_data.mean_keyword_scores(master_data[['id', 'success_score']], 'datasets/image_keywords_edinburgh.csv')"
   ]
  },
  {
   "cell_type": "code",
   "execution_count": 126,
   "metadata": {},
   "outputs": [],
   "source": [
    "# For each listing, compute the mean and standard deviation in the perceived success of image keywords.\n",
    "weighted_image_score = []\n",
    "std_image_score = []\n",
    "\n",
    "for i in range(len(master_data.index)):\n",
    "    entry = master_data.iloc[i]\n",
    "\n",
    "    keywords = ast.literal_eval(entry.images_keywords)\n",
    "    confidences = ast.literal_eval(entry.images_confidences)\n",
    "\n",
    "    scores = []\n",
    "    for j in range(len(keywords)):\n",
    "        scores.append(keyword_success[keywords[j]] * (confidences[j] / 100)) \n",
    "\n",
    "    weighted_image_score.append(np.mean(scores))\n",
    "    std_image_score.append(np.std(scores))\n",
    "\n",
    "master_data['weighted_image_score'] = weighted_image_score\n",
    "master_data['std_image_score'] = std_image_score"
   ]
  },
  {
   "cell_type": "code",
   "execution_count": 132,
   "metadata": {},
   "outputs": [
    {
     "data": {
      "text/plain": [
       "count    4512.000000\n",
       "mean        0.241897\n",
       "std         0.019780\n",
       "min         0.166513\n",
       "25%         0.228378\n",
       "50%         0.241937\n",
       "75%         0.255069\n",
       "max         0.332465\n",
       "Name: weighted_image_score, dtype: float64"
      ]
     },
     "execution_count": 132,
     "metadata": {},
     "output_type": "execute_result"
    }
   ],
   "source": [
    "master_data.weighted_image_score.describe()"
   ]
  },
  {
   "cell_type": "code",
   "execution_count": 133,
   "metadata": {},
   "outputs": [
    {
     "data": {
      "text/plain": [
       "count    4512.000000\n",
       "mean        0.071370\n",
       "std         0.009856\n",
       "min         0.019068\n",
       "25%         0.066316\n",
       "50%         0.071424\n",
       "75%         0.076109\n",
       "max         0.283210\n",
       "Name: std_image_score, dtype: float64"
      ]
     },
     "execution_count": 133,
     "metadata": {},
     "output_type": "execute_result"
    }
   ],
   "source": [
    "master_data.std_image_score.describe()"
   ]
  },
  {
   "attachments": {},
   "cell_type": "markdown",
   "metadata": {},
   "source": [
    "We would like to compare successful listings with unsuccessful listings. So let's split the data into listings that are more successful than average and listings that are less successful than average."
   ]
  },
  {
   "cell_type": "code",
   "execution_count": 127,
   "metadata": {},
   "outputs": [],
   "source": [
    "# Create better_than_average feature\n",
    "master_data['better_than_average'] = master_data.success_score > np.mean(master_data.success_score)"
   ]
  },
  {
   "attachments": {},
   "cell_type": "markdown",
   "metadata": {},
   "source": [
    "## Having a Wee Explore"
   ]
  },
  {
   "cell_type": "code",
   "execution_count": 188,
   "metadata": {},
   "outputs": [],
   "source": [
    "# Beautification.\n",
    "sns.set_style('darkgrid')\n",
    "sns.set_style({'font.family':'serif', 'font.serif':'Times New Roman'})\n",
    "sns.set_context('paper')\n",
    "sns.set_palette('Set2')"
   ]
  },
  {
   "cell_type": "code",
   "execution_count": 138,
   "metadata": {},
   "outputs": [
    {
     "data": {
      "text/plain": [
       "Index(['id', 'host_since', 'host_response_time', 'host_response_rate',\n",
       "       'host_acceptance_rate', 'host_is_superhost', 'host_listings_count',\n",
       "       'host_total_listings_count', 'host_verifications',\n",
       "       'host_identity_verified', 'room_type', 'accommodates', 'bedrooms',\n",
       "       'beds', 'minimum_nights', 'maximum_nights', 'availability_30',\n",
       "       'availability_60', 'availability_90', 'availability_365',\n",
       "       'number_of_reviews', 'number_of_reviews_l30d', 'first_review',\n",
       "       'last_review', 'review_scores_rating', 'review_scores_accuracy',\n",
       "       'review_scores_cleanliness', 'review_scores_checkin',\n",
       "       'review_scores_communication', 'review_scores_location',\n",
       "       'review_scores_value', 'instant_bookable', 'reviews_per_month',\n",
       "       'title_polarity', 'title_subjectivity', 'description_polarity',\n",
       "       'description_subjectivity', 'neighborhood_overview_polarity',\n",
       "       'neighborhood_overview_subjectivity', 'host_about_polarity',\n",
       "       'host_about_subjectivity', 'images_keywords', 'images_confidences',\n",
       "       'success_score', 'weighted_image_score', 'std_image_score',\n",
       "       'better_than_average'],\n",
       "      dtype='object')"
      ]
     },
     "execution_count": 138,
     "metadata": {},
     "output_type": "execute_result"
    }
   ],
   "source": [
    "master_data.columns"
   ]
  },
  {
   "attachments": {},
   "cell_type": "markdown",
   "metadata": {},
   "source": [
    "Investigating differences between the distribution of features between more and less successful listings."
   ]
  },
  {
   "cell_type": "code",
   "execution_count": 196,
   "metadata": {},
   "outputs": [
    {
     "data": {
      "image/png": "[encoded data removed]",
      "text/plain": [
       "<Figure size 500x300 with 1 Axes>"
      ]
     },
     "metadata": {},
     "output_type": "display_data"
    }
   ],
   "source": [
    "fig, ax = plt.subplots(figsize=(5, 3))\n",
    "\n",
    "sns.distplot(master_data[master_data.better_than_average == False].weighted_image_score, \n",
    "             ax=ax, label='Less Successful')\n",
    "sns.distplot(master_data[master_data.better_than_average == True].weighted_image_score, \n",
    "             ax=ax, label='More Successful')\n",
    "\n",
    "ax.legend()\n",
    "ax.set_title(\"Distributions of Weighted Image Scores in Listings\", pad=10)\n",
    "ax.set_ylabel(\"\")\n",
    "ax.set_xlabel(\"Weighted Image Score\")\n",
    "\n",
    "fig.savefig('figures/weighted_image_scores_disctribution_comparison.pdf', \n",
    "            dpi=300, format='pdf', bbox_inches='tight', facecolor='white')"
   ]
  }
 ],
 "metadata": {
  "kernelspec": {
   "display_name": "Python 3",
   "language": "python",
   "name": "python3"
  },
  "language_info": {
   "codemirror_mode": {
    "name": "ipython",
    "version": 3
   },
   "file_extension": ".py",
   "mimetype": "text/x-python",
   "name": "python",
   "nbconvert_exporter": "python",
   "pygments_lexer": "ipython3",
   "version": "3.9.13"
  },
  "orig_nbformat": 4,
  "vscode": {
   "interpreter": {
    "hash": "51b247d887519ae5f7ee722485e5c6dc7c9b200f006446aff3a9d042e7ab81e7"
   }
  }
 },
 "nbformat": 4,
 "nbformat_minor": 2
}
